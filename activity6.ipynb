{
  "cells": [
    {
      "cell_type": "code",
      "execution_count": null,
      "metadata": {},
      "outputs": [],
      "source": [
        "#\n",
        "#O conjunto de dados analisados é sobre frutas\n",
        "#https://www.kaggle.com/moltean/fruits\n",
        "\n",
        "#Apenas algumas frutas do dataset foram usadas: \n",
        "#-Grape\n",
        "#-Orange\n",
        "#-Nectarine\n",
        "#-Mandarine\n",
        "#-Banana\n",
        "#-Kiwi\n",
        "#-Apple\n"
      ]
    },
    {
      "cell_type": "code",
      "metadata": {
        "id": "xvq4Mwr8rm7r"
      },
      "source": [
        "import numpy as np # linear algebra\n",
        "import pandas as pd # data processing, CSV file I/O (e.g. pd.read_csv)\n",
        "import cv2 # opencv\n",
        "import matplotlib.pyplot as plt\n",
        "import os\n",
        "\n",
        "from sklearn.metrics import accuracy_score\n",
        "\n",
        "from keras import preprocessing\n",
        "from keras.utils.np_utils import to_categorical # convert to one-hot-encoding\n",
        "from keras.models import Sequential\n",
        "from keras.layers import Dense, Dropout, Flatten, Conv2D, MaxPool2D\n",
        "from keras.optimizers import RMSprop"
      ],
      "execution_count": 1,
      "outputs": []
    },
    {
      "cell_type": "code",
      "metadata": {
        "id": "VfCWCy4IgW4a"
      },
      "source": [
        "img = cv2.imread('./fruits-360/Test/Apple/3_100.jpg')"
      ],
      "execution_count": 12,
      "outputs": []
    },
    {
      "cell_type": "code",
      "metadata": {
        "id": "iM1emKzVgdMX",
        "outputId": "9101a6c1-74b3-42a4-850d-2e05ad54b6ac",
        "colab": {
          "base_uri": "https://localhost:8080/",
          "height": 34
        }
      },
      "source": [
        "img.shape"
      ],
      "execution_count": 13,
      "outputs": [
        {
          "output_type": "execute_result",
          "data": {
            "text/plain": "(100, 100, 3)"
          },
          "metadata": {},
          "execution_count": 13
        }
      ]
    },
    {
      "cell_type": "code",
      "metadata": {
        "id": "ahfLxe7Jd7NG"
      },
      "source": [
        "input_dir = './fruits-360/'"
      ],
      "execution_count": 14,
      "outputs": []
    },
    {
      "cell_type": "code",
      "metadata": {
        "id": "muot0iICZfjV"
      },
      "source": [
        "#tipo = Training ou Test\n",
        "classes = {'Apple':0,'Banana':1, 'Grape': 2, 'Kiwi':3, 'Mandarine':4, 'Nectarine':5, 'Orange':6}\n",
        "def ler_dataset(tipo):\n",
        "  X = []\n",
        "  y = []\n",
        "  qtd = 1000 if tipo == 'Training' else 200\n",
        "  #para cada pasta\n",
        "  for pasta in os.listdir(input_dir+tipo+'/'):\n",
        "    print(pasta)\n",
        "    #para cada imagem na pasta\n",
        "    for img_file in os.listdir(input_dir+tipo+'/'+pasta+'/')[:qtd]:\n",
        "      #leia a imagem\n",
        "      img = cv2.imread(input_dir+tipo+'/'+pasta+'/'+img_file)\n",
        "      #transforme imagem em array de pixels e salve na lista de imagens\n",
        "      X.append(img)\n",
        "      #guarde a classificação da imagem\n",
        "      y.append(classes[pasta])\n",
        "  X = np.asarray(X)\n",
        "  y = np.asarray(y)\n",
        "  return X,y"
      ],
      "execution_count": 113,
      "outputs": []
    },
    {
      "cell_type": "code",
      "metadata": {
        "id": "ik-wODFmZmPN",
        "outputId": "8c439d5c-ae4b-48c6-98eb-cf4dedb7f970",
        "colab": {
          "base_uri": "https://localhost:8080/",
          "height": 51
        },
        "tags": []
      },
      "source": [
        "#Treino\n",
        "X_treino,y_treino = ler_dataset('Training')"
      ],
      "execution_count": 114,
      "outputs": [
        {
          "output_type": "stream",
          "name": "stdout",
          "text": "Grape\nOrange\nNectarine\nMandarine\nBanana\nKiwi\nApple\n"
        }
      ]
    },
    {
      "cell_type": "code",
      "metadata": {
        "id": "I4SeE9BERVev",
        "outputId": "379ccbb7-161d-49a4-aa75-1e93b227c45e",
        "colab": {
          "base_uri": "https://localhost:8080/",
          "height": 34
        }
      },
      "source": [
        "#Visualizando o shape X_treino\n",
        "X_treino.shape"
      ],
      "execution_count": 115,
      "outputs": [
        {
          "output_type": "execute_result",
          "data": {
            "text/plain": "(3399, 100, 100, 3)"
          },
          "metadata": {},
          "execution_count": 115
        }
      ]
    },
    {
      "cell_type": "code",
      "metadata": {
        "id": "TsVBg8SCRZwJ",
        "outputId": "4f33b657-bbc8-40b7-bd26-2dca8684fa3b",
        "colab": {
          "base_uri": "https://localhost:8080/",
          "height": 34
        }
      },
      "source": [
        "#Visualizando o shape do y_treino\n",
        "y_treino.shape"
      ],
      "execution_count": 116,
      "outputs": [
        {
          "output_type": "execute_result",
          "data": {
            "text/plain": "(3399,)"
          },
          "metadata": {},
          "execution_count": 116
        }
      ]
    },
    {
      "cell_type": "code",
      "metadata": {
        "id": "fuGW2y_PRdOq",
        "outputId": "ec2aa559-a2e8-443a-84a4-4e1306596e11",
        "colab": {
          "base_uri": "https://localhost:8080/",
          "height": 51
        },
        "tags": []
      },
      "source": [
        "# Test\n",
        "X_teste,y_teste = ler_dataset('Test')"
      ],
      "execution_count": 117,
      "outputs": [
        {
          "output_type": "stream",
          "name": "stdout",
          "text": "Grape\nOrange\nNectarine\nMandarine\nBanana\nKiwi\nApple\n"
        }
      ]
    },
    {
      "cell_type": "code",
      "metadata": {
        "id": "LnHw33MIRe8R",
        "outputId": "a2ffe228-5567-402e-8529-0b38c81e23ea",
        "colab": {
          "base_uri": "https://localhost:8080/",
          "height": 34
        }
      },
      "source": [
        "#Visualizando o shape X_test\n",
        "X_teste.shape"
      ],
      "execution_count": 118,
      "outputs": [
        {
          "output_type": "execute_result",
          "data": {
            "text/plain": "(1142, 100, 100, 3)"
          },
          "metadata": {},
          "execution_count": 118
        }
      ]
    },
    {
      "cell_type": "code",
      "metadata": {
        "id": "CU-hq3cvRgFK",
        "outputId": "204358ea-0f1c-4147-d375-e1e53c92842d",
        "colab": {
          "base_uri": "https://localhost:8080/",
          "height": 34
        }
      },
      "source": [
        "#Visualizando o shape Y_test\n",
        "y_teste.shape"
      ],
      "execution_count": 119,
      "outputs": [
        {
          "output_type": "execute_result",
          "data": {
            "text/plain": "(1142,)"
          },
          "metadata": {},
          "execution_count": 119
        }
      ]
    },
    {
      "cell_type": "code",
      "execution_count": 120,
      "metadata": {},
      "outputs": [
        {
          "output_type": "execute_result",
          "data": {
            "text/plain": "7"
          },
          "metadata": {},
          "execution_count": 120
        }
      ],
      "source": [
        "#Visualizando a quantidade de classes\n",
        "no_of_classes = len(np.unique(y_treino))\n",
        "no_of_classes"
      ]
    },
    {
      "cell_type": "code",
      "metadata": {
        "id": "oJp-81pMRi0x"
      },
      "source": [
        "#transformando labels de numérico para categórico\n",
        "y_treino = to_categorical(y_treino, num_classes = 7)\n",
        "y_teste = to_categorical(y_teste, num_classes = 7)"
      ],
      "execution_count": 121,
      "outputs": []
    },
    {
      "cell_type": "code",
      "metadata": {
        "id": "vKo9SGxHRl-R",
        "outputId": "ef839117-9dfa-43cb-f826-8ab8791ab293",
        "colab": {
          "base_uri": "https://localhost:8080/",
          "height": 180
        }
      },
      "source": [
        "X_treino = X_treino/255\n",
        "X_teste = X_teste/255"
      ],
      "execution_count": 123,
      "outputs": []
    },
    {
      "cell_type": "code",
      "metadata": {
        "id": "9zoRmWXiRno2"
      },
      "source": [
        "\n",
        "#definição do modelo\n",
        "model = Sequential()\n",
        "\n",
        "# 2 camadas de convolução de 32 filtros + Max pooling [2,2]\n",
        "model.add(Conv2D(filters = 32, kernel_size = (5,5),padding = 'Same', activation ='relu', input_shape = (100, 100, 3)))\n",
        "model.add(Conv2D(filters = 32, kernel_size = (5,5),padding = 'Same', activation ='relu'))\n",
        "model.add(Conv2D(filters = 32, kernel_size = (5,5),padding = 'Same', activation ='relu'))\n",
        "model.add(MaxPool2D(pool_size=(2,2)))\n",
        "model.add(Dropout(0.25))\n",
        "\n",
        "# 2 camadas de convolução de 64 filtros + Max pooling [2,2]\n",
        "model.add(Conv2D(filters = 64, kernel_size = (3,3),padding = 'Same', activation ='relu'))\n",
        "model.add(Conv2D(filters = 64, kernel_size = (3,3),padding = 'Same', activation ='relu'))\n",
        "model.add(Conv2D(filters = 64, kernel_size = (3,3),padding = 'Same', activation ='relu'))\n",
        "model.add(MaxPool2D(pool_size=(2,2), strides=(2,2)))\n",
        "model.add(Dropout(0.25))\n",
        "\n",
        "# 2 camadas de convolução de 128 filtros + Max pooling [2,2]\n",
        "model.add(Conv2D(filters = 128, kernel_size = (3,3),padding = 'Same', activation ='relu'))\n",
        "model.add(Conv2D(filters = 128, kernel_size = (3,3),padding = 'Same', activation ='relu'))\n",
        "model.add(Conv2D(filters = 128, kernel_size = (3,3),padding = 'Same', activation ='relu'))\n",
        "model.add(MaxPool2D(pool_size=(2,2), strides=(2,2)))\n",
        "model.add(Dropout(0.25))\n",
        "\n",
        "#  2 camadas fully conected \n",
        "model.add(Flatten())#converte os mapas de ativação finais para um veter de 1 dimensão\n",
        "model.add(Dense(256, activation = \"relu\"))\n",
        "model.add(Dropout(0.5))\n",
        "model.add(Dense(7, activation = \"softmax\"))"
      ],
      "execution_count": 124,
      "outputs": []
    },
    {
      "cell_type": "code",
      "metadata": {
        "id": "VUoK8VU7Rqhi"
      },
      "source": [
        "# Definindo o algoritmo otmizador\n",
        "optimizer = RMSprop(lr=0.001, rho=0.9, epsilon=1e-08, decay=0.0)"
      ],
      "execution_count": 125,
      "outputs": []
    },
    {
      "cell_type": "code",
      "metadata": {
        "id": "7nKNY5EQRuKD"
      },
      "source": [
        "# Compilando o modelo\n",
        "model.compile(optimizer = optimizer , loss = \"categorical_crossentropy\", metrics=[\"accuracy\"])"
      ],
      "execution_count": 126,
      "outputs": []
    },
    {
      "cell_type": "code",
      "metadata": {
        "id": "ktSqz9P_RyHa",
        "tags": []
      },
      "source": [
        "# Descrição do modelo\n",
        "model.summary()"
      ],
      "execution_count": 127,
      "outputs": [
        {
          "output_type": "stream",
          "name": "stdout",
          "text": "Model: \"sequential_11\"\n_________________________________________________________________\nLayer (type)                 Output Shape              Param #   \n=================================================================\nconv2d_99 (Conv2D)           (None, 100, 100, 32)      2432      \n_________________________________________________________________\nconv2d_100 (Conv2D)          (None, 100, 100, 32)      25632     \n_________________________________________________________________\nconv2d_101 (Conv2D)          (None, 100, 100, 32)      25632     \n_________________________________________________________________\nmax_pooling2d_33 (MaxPooling (None, 50, 50, 32)        0         \n_________________________________________________________________\ndropout_44 (Dropout)         (None, 50, 50, 32)        0         \n_________________________________________________________________\nconv2d_102 (Conv2D)          (None, 50, 50, 64)        18496     \n_________________________________________________________________\nconv2d_103 (Conv2D)          (None, 50, 50, 64)        36928     \n_________________________________________________________________\nconv2d_104 (Conv2D)          (None, 50, 50, 64)        36928     \n_________________________________________________________________\nmax_pooling2d_34 (MaxPooling (None, 25, 25, 64)        0         \n_________________________________________________________________\ndropout_45 (Dropout)         (None, 25, 25, 64)        0         \n_________________________________________________________________\nconv2d_105 (Conv2D)          (None, 25, 25, 128)       73856     \n_________________________________________________________________\nconv2d_106 (Conv2D)          (None, 25, 25, 128)       147584    \n_________________________________________________________________\nconv2d_107 (Conv2D)          (None, 25, 25, 128)       147584    \n_________________________________________________________________\nmax_pooling2d_35 (MaxPooling (None, 12, 12, 128)       0         \n_________________________________________________________________\ndropout_46 (Dropout)         (None, 12, 12, 128)       0         \n_________________________________________________________________\nflatten_11 (Flatten)         (None, 18432)             0         \n_________________________________________________________________\ndense_22 (Dense)             (None, 256)               4718848   \n_________________________________________________________________\ndropout_47 (Dropout)         (None, 256)               0         \n_________________________________________________________________\ndense_23 (Dense)             (None, 7)                 1799      \n=================================================================\nTotal params: 5,235,719\nTrainable params: 5,235,719\nNon-trainable params: 0\n_________________________________________________________________\n"
        }
      ]
    },
    {
      "cell_type": "code",
      "metadata": {
        "id": "_3bcdU6oR3Ok",
        "tags": []
      },
      "source": [
        "# treinamento do modelo - o valor da acurácia foi baixo provalvemente pela quantidade de imagens que foram utilizadas \n",
        "model.fit(X_treino, y_treino, epochs=1,verbose = 1)"
      ],
      "execution_count": 128,
      "outputs": [
        {
          "output_type": "stream",
          "name": "stdout",
          "text": "107/107 [==============================] - 305s 3s/step - loss: 1.9480 - accuracy: 0.1392\n"
        },
        {
          "output_type": "execute_result",
          "data": {
            "text/plain": "<tensorflow.python.keras.callbacks.History at 0x7f7b9ba12400>"
          },
          "metadata": {},
          "execution_count": 128
        }
      ]
    },
    {
      "cell_type": "code",
      "metadata": {
        "id": "-sZq-KPfR45W",
        "tags": []
      },
      "source": [
        "model.evaluate(X_teste,y_teste)"
      ],
      "execution_count": 129,
      "outputs": [
        {
          "output_type": "stream",
          "name": "stdout",
          "text": "36/36 [==============================] - 21s 592ms/step - loss: 1.9458 - accuracy: 0.1436\n"
        },
        {
          "output_type": "execute_result",
          "data": {
            "text/plain": "[1.945834755897522, 0.1436077058315277]"
          },
          "metadata": {},
          "execution_count": 129
        }
      ]
    },
    {
      "cell_type": "code",
      "execution_count": null,
      "metadata": {},
      "outputs": [],
      "source": []
    }
  ],
  "metadata": {
    "colab": {
      "name": "activity6.ipynb",
      "provenance": []
    },
    "kernelspec": {
      "name": "python3",
      "display_name": "Python 3"
    }
  },
  "nbformat": 4,
  "nbformat_minor": 0
}