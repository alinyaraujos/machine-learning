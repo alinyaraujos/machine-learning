{
  "nbformat": 4,
  "nbformat_minor": 0,
  "metadata": {
    "colab": {
      "name": "ApredizagemDeMaquina.ipynb",
      "provenance": [],
      "collapsed_sections": [],
      "include_colab_link": true
    },
    "kernelspec": {
      "name": "python3",
      "display_name": "Python 3"
    }
  },
  "cells": [
    {
      "cell_type": "markdown",
      "metadata": {
        "id": "view-in-github",
        "colab_type": "text"
      },
      "source": [
        "<a href=\"https://colab.research.google.com/github/alinyaraujos/machine-learning/blob/activity-2/ApredizagemDeMaquina.ipynb\" target=\"_parent\"><img src=\"https://colab.research.google.com/assets/colab-badge.svg\" alt=\"Open In Colab\"/></a>"
      ]
    },
    {
      "cell_type": "markdown",
      "metadata": {
        "id": "9HZTGwDHF-D7",
        "colab_type": "text"
      },
      "source": [
        "\n",
        "\n",
        "O conjunto de dados analisados é sobre doença cardíaca UCI\n",
        "\n",
        "https://www.kaggle.com/ronitf/heart-disease-uci?select=heart.csv\n",
        "\n"
      ]
    },
    {
      "cell_type": "code",
      "metadata": {
        "id": "fn6uqJtCd2cx",
        "colab_type": "code",
        "colab": {
          "base_uri": "https://localhost:8080/",
          "height": 34
        },
        "outputId": "70826511-62a5-47af-f74e-1664b02cc307"
      },
      "source": [
        "from google.colab import drive\n",
        "drive.mount('/content/drive/')"
      ],
      "execution_count": 301,
      "outputs": [
        {
          "output_type": "stream",
          "text": [
            "Drive already mounted at /content/drive/; to attempt to forcibly remount, call drive.mount(\"/content/drive/\", force_remount=True).\n"
          ],
          "name": "stdout"
        }
      ]
    },
    {
      "cell_type": "code",
      "metadata": {
        "id": "xFh3x9i2sz4K",
        "colab_type": "code",
        "colab": {}
      },
      "source": [
        "import numpy as np\n",
        "import pandas as pd\n",
        "import matplotlib.pyplot as plt\n",
        "import seaborn as sns"
      ],
      "execution_count": 302,
      "outputs": []
    },
    {
      "cell_type": "code",
      "metadata": {
        "id": "FROesPcGtLoe",
        "colab_type": "code",
        "colab": {}
      },
      "source": [
        "# lendo csv e armazenando em um dataframe\n",
        "dados = pd.read_csv('/content/drive/My Drive/Colab Notebooks/datasets/heart.csv')"
      ],
      "execution_count": 303,
      "outputs": []
    },
    {
      "cell_type": "code",
      "metadata": {
        "id": "DLeU6PHSvF5G",
        "colab_type": "code",
        "colab": {
          "base_uri": "https://localhost:8080/",
          "height": 204
        },
        "outputId": "7ec5c532-0fe4-4926-98b1-4e5bc482705a"
      },
      "source": [
        "dados.head()"
      ],
      "execution_count": 304,
      "outputs": [
        {
          "output_type": "execute_result",
          "data": {
            "text/html": [
              "<div>\n",
              "<style scoped>\n",
              "    .dataframe tbody tr th:only-of-type {\n",
              "        vertical-align: middle;\n",
              "    }\n",
              "\n",
              "    .dataframe tbody tr th {\n",
              "        vertical-align: top;\n",
              "    }\n",
              "\n",
              "    .dataframe thead th {\n",
              "        text-align: right;\n",
              "    }\n",
              "</style>\n",
              "<table border=\"1\" class=\"dataframe\">\n",
              "  <thead>\n",
              "    <tr style=\"text-align: right;\">\n",
              "      <th></th>\n",
              "      <th>age</th>\n",
              "      <th>sex</th>\n",
              "      <th>cp</th>\n",
              "      <th>trestbps</th>\n",
              "      <th>chol</th>\n",
              "      <th>fbs</th>\n",
              "      <th>restecg</th>\n",
              "      <th>thalach</th>\n",
              "      <th>exang</th>\n",
              "      <th>oldpeak</th>\n",
              "      <th>slope</th>\n",
              "      <th>ca</th>\n",
              "      <th>thal</th>\n",
              "      <th>target</th>\n",
              "    </tr>\n",
              "  </thead>\n",
              "  <tbody>\n",
              "    <tr>\n",
              "      <th>0</th>\n",
              "      <td>63</td>\n",
              "      <td>1</td>\n",
              "      <td>3</td>\n",
              "      <td>145</td>\n",
              "      <td>233</td>\n",
              "      <td>1</td>\n",
              "      <td>0</td>\n",
              "      <td>150</td>\n",
              "      <td>0</td>\n",
              "      <td>2.3</td>\n",
              "      <td>0</td>\n",
              "      <td>0</td>\n",
              "      <td>1</td>\n",
              "      <td>1</td>\n",
              "    </tr>\n",
              "    <tr>\n",
              "      <th>1</th>\n",
              "      <td>37</td>\n",
              "      <td>1</td>\n",
              "      <td>2</td>\n",
              "      <td>130</td>\n",
              "      <td>250</td>\n",
              "      <td>0</td>\n",
              "      <td>1</td>\n",
              "      <td>187</td>\n",
              "      <td>0</td>\n",
              "      <td>3.5</td>\n",
              "      <td>0</td>\n",
              "      <td>0</td>\n",
              "      <td>2</td>\n",
              "      <td>1</td>\n",
              "    </tr>\n",
              "    <tr>\n",
              "      <th>2</th>\n",
              "      <td>41</td>\n",
              "      <td>0</td>\n",
              "      <td>1</td>\n",
              "      <td>130</td>\n",
              "      <td>204</td>\n",
              "      <td>0</td>\n",
              "      <td>0</td>\n",
              "      <td>172</td>\n",
              "      <td>0</td>\n",
              "      <td>1.4</td>\n",
              "      <td>2</td>\n",
              "      <td>0</td>\n",
              "      <td>2</td>\n",
              "      <td>1</td>\n",
              "    </tr>\n",
              "    <tr>\n",
              "      <th>3</th>\n",
              "      <td>56</td>\n",
              "      <td>1</td>\n",
              "      <td>1</td>\n",
              "      <td>120</td>\n",
              "      <td>236</td>\n",
              "      <td>0</td>\n",
              "      <td>1</td>\n",
              "      <td>178</td>\n",
              "      <td>0</td>\n",
              "      <td>0.8</td>\n",
              "      <td>2</td>\n",
              "      <td>0</td>\n",
              "      <td>2</td>\n",
              "      <td>1</td>\n",
              "    </tr>\n",
              "    <tr>\n",
              "      <th>4</th>\n",
              "      <td>57</td>\n",
              "      <td>0</td>\n",
              "      <td>0</td>\n",
              "      <td>120</td>\n",
              "      <td>354</td>\n",
              "      <td>0</td>\n",
              "      <td>1</td>\n",
              "      <td>163</td>\n",
              "      <td>1</td>\n",
              "      <td>0.6</td>\n",
              "      <td>2</td>\n",
              "      <td>0</td>\n",
              "      <td>2</td>\n",
              "      <td>1</td>\n",
              "    </tr>\n",
              "  </tbody>\n",
              "</table>\n",
              "</div>"
            ],
            "text/plain": [
              "   age  sex  cp  trestbps  chol  fbs  ...  exang  oldpeak  slope  ca  thal  target\n",
              "0   63    1   3       145   233    1  ...      0      2.3      0   0     1       1\n",
              "1   37    1   2       130   250    0  ...      0      3.5      0   0     2       1\n",
              "2   41    0   1       130   204    0  ...      0      1.4      2   0     2       1\n",
              "3   56    1   1       120   236    0  ...      0      0.8      2   0     2       1\n",
              "4   57    0   0       120   354    0  ...      1      0.6      2   0     2       1\n",
              "\n",
              "[5 rows x 14 columns]"
            ]
          },
          "metadata": {
            "tags": []
          },
          "execution_count": 304
        }
      ]
    },
    {
      "cell_type": "code",
      "metadata": {
        "id": "fgmtxtGMFDKk",
        "colab_type": "code",
        "colab": {
          "base_uri": "https://localhost:8080/",
          "height": 34
        },
        "outputId": "02283f1d-7b37-4d0c-f2a7-c14be21f3ea0"
      },
      "source": [
        "#verificando se realmente o alvo está divido em duas classes\n",
        "dados['target'].nunique()"
      ],
      "execution_count": 305,
      "outputs": [
        {
          "output_type": "execute_result",
          "data": {
            "text/plain": [
              "2"
            ]
          },
          "metadata": {
            "tags": []
          },
          "execution_count": 305
        }
      ]
    },
    {
      "cell_type": "code",
      "metadata": {
        "id": "6dhpqXE7UhP0",
        "colab_type": "code",
        "colab": {
          "base_uri": "https://localhost:8080/",
          "height": 272
        },
        "outputId": "48346910-4af0-4923-87ce-cbdea0617a89"
      },
      "source": [
        "#verificando se exitem dados faltantes\n",
        "dados.isnull().sum()"
      ],
      "execution_count": 306,
      "outputs": [
        {
          "output_type": "execute_result",
          "data": {
            "text/plain": [
              "age         0\n",
              "sex         0\n",
              "cp          0\n",
              "trestbps    0\n",
              "chol        0\n",
              "fbs         0\n",
              "restecg     0\n",
              "thalach     0\n",
              "exang       0\n",
              "oldpeak     0\n",
              "slope       0\n",
              "ca          0\n",
              "thal        0\n",
              "target      0\n",
              "dtype: int64"
            ]
          },
          "metadata": {
            "tags": []
          },
          "execution_count": 306
        }
      ]
    },
    {
      "cell_type": "code",
      "metadata": {
        "id": "BdPCrXlF1Ckc",
        "colab_type": "code",
        "colab": {}
      },
      "source": [
        "plt.rcParams[\"figure.figsize\"] = (8,6)"
      ],
      "execution_count": 307,
      "outputs": []
    },
    {
      "cell_type": "code",
      "metadata": {
        "id": "2_V2OIkKObI-",
        "colab_type": "code",
        "colab": {
          "base_uri": "https://localhost:8080/",
          "height": 404
        },
        "outputId": "0abd098b-c9d0-4cfa-97e0-834561ca423f"
      },
      "source": [
        "#verificando ocorrência das classes\n",
        "plt.hist(dados['target'])\n",
        "plt.xlabel('Classes')\n",
        "plt.ylabel('Quantidade')\n",
        "plt.title('Ocorrências das Classes')\n",
        "plt.grid(True)\n",
        "plt.show()"
      ],
      "execution_count": 308,
      "outputs": [
        {
          "output_type": "display_data",
          "data": {
            "image/png": "[encoded data removed]",
            "text/plain": [
              "<Figure size 576x432 with 1 Axes>"
            ]
          },
          "metadata": {
            "tags": [],
            "needs_background": "light"
          }
        }
      ]
    },
    {
      "cell_type": "code",
      "metadata": {
        "id": "5pOOUKm9O8aD",
        "colab_type": "code",
        "colab": {
          "base_uri": "https://localhost:8080/",
          "height": 51
        },
        "outputId": "50f30b13-4e03-42dc-fb8b-5c46486e6ce7"
      },
      "source": [
        "#contando quantidade de occorrencias de cada classe\n",
        "print('Ausência da doença:',dados[dados['target']==0].shape[0])\n",
        "print('Presença da doença:',dados[dados['target']==1].shape[0])"
      ],
      "execution_count": 309,
      "outputs": [
        {
          "output_type": "stream",
          "text": [
            "Ausência da doença: 138\n",
            "Presença da doença: 165\n"
          ],
          "name": "stdout"
        }
      ]
    },
    {
      "cell_type": "code",
      "metadata": {
        "id": "fM5t6g9EPj_1",
        "colab_type": "code",
        "colab": {
          "base_uri": "https://localhost:8080/",
          "height": 390
        },
        "outputId": "481520d9-d3fc-4d50-81e7-1310ff9e8f1d"
      },
      "source": [
        "#verificando ocorrências do atributo de tipo de dor no peito (cp)\n",
        "plt.hist(dados['cp'],10)\n",
        "plt.ylabel('Quantidade')\n",
        "plt.title('Ocorrências do Atributo tipo de dor no peito(cp)')\n",
        "plt.grid(True)\n",
        "plt.show()"
      ],
      "execution_count": 310,
      "outputs": [
        {
          "output_type": "display_data",
          "data": {
            "image/png": "[encoded data removed]",
            "text/plain": [
              "<Figure size 576x432 with 1 Axes>"
            ]
          },
          "metadata": {
            "tags": [],
            "needs_background": "light"
          }
        }
      ]
    },
    {
      "cell_type": "code",
      "metadata": {
        "id": "sGmw4HUIQOV5",
        "colab_type": "code",
        "colab": {
          "base_uri": "https://localhost:8080/",
          "height": 374
        },
        "outputId": "a13897ad-c928-4835-d940-50bbfad3bb9d"
      },
      "source": [
        "dados.info()"
      ],
      "execution_count": 311,
      "outputs": [
        {
          "output_type": "stream",
          "text": [
            "<class 'pandas.core.frame.DataFrame'>\n",
            "RangeIndex: 303 entries, 0 to 302\n",
            "Data columns (total 14 columns):\n",
            " #   Column    Non-Null Count  Dtype  \n",
            "---  ------    --------------  -----  \n",
            " 0   age       303 non-null    int64  \n",
            " 1   sex       303 non-null    int64  \n",
            " 2   cp        303 non-null    int64  \n",
            " 3   trestbps  303 non-null    int64  \n",
            " 4   chol      303 non-null    int64  \n",
            " 5   fbs       303 non-null    int64  \n",
            " 6   restecg   303 non-null    int64  \n",
            " 7   thalach   303 non-null    int64  \n",
            " 8   exang     303 non-null    int64  \n",
            " 9   oldpeak   303 non-null    float64\n",
            " 10  slope     303 non-null    int64  \n",
            " 11  ca        303 non-null    int64  \n",
            " 12  thal      303 non-null    int64  \n",
            " 13  target    303 non-null    int64  \n",
            "dtypes: float64(1), int64(13)\n",
            "memory usage: 33.3 KB\n"
          ],
          "name": "stdout"
        }
      ]
    },
    {
      "cell_type": "code",
      "metadata": {
        "id": "HbPpkGBDTOxc",
        "colab_type": "code",
        "colab": {
          "base_uri": "https://localhost:8080/",
          "height": 483
        },
        "outputId": "7d5fedf3-402f-409e-9bd5-3fecb3af9e21"
      },
      "source": [
        "corr = dados.corr()\n",
        "corr"
      ],
      "execution_count": 312,
      "outputs": [
        {
          "output_type": "execute_result",
          "data": {
            "text/html": [
              "<div>\n",
              "<style scoped>\n",
              "    .dataframe tbody tr th:only-of-type {\n",
              "        vertical-align: middle;\n",
              "    }\n",
              "\n",
              "    .dataframe tbody tr th {\n",
              "        vertical-align: top;\n",
              "    }\n",
              "\n",
              "    .dataframe thead th {\n",
              "        text-align: right;\n",
              "    }\n",
              "</style>\n",
              "<table border=\"1\" class=\"dataframe\">\n",
              "  <thead>\n",
              "    <tr style=\"text-align: right;\">\n",
              "      <th></th>\n",
              "      <th>age</th>\n",
              "      <th>sex</th>\n",
              "      <th>cp</th>\n",
              "      <th>trestbps</th>\n",
              "      <th>chol</th>\n",
              "      <th>fbs</th>\n",
              "      <th>restecg</th>\n",
              "      <th>thalach</th>\n",
              "      <th>exang</th>\n",
              "      <th>oldpeak</th>\n",
              "      <th>slope</th>\n",
              "      <th>ca</th>\n",
              "      <th>thal</th>\n",
              "      <th>target</th>\n",
              "    </tr>\n",
              "  </thead>\n",
              "  <tbody>\n",
              "    <tr>\n",
              "      <th>age</th>\n",
              "      <td>1.000000</td>\n",
              "      <td>-0.098447</td>\n",
              "      <td>-0.068653</td>\n",
              "      <td>0.279351</td>\n",
              "      <td>0.213678</td>\n",
              "      <td>0.121308</td>\n",
              "      <td>-0.116211</td>\n",
              "      <td>-0.398522</td>\n",
              "      <td>0.096801</td>\n",
              "      <td>0.210013</td>\n",
              "      <td>-0.168814</td>\n",
              "      <td>0.276326</td>\n",
              "      <td>0.068001</td>\n",
              "      <td>-0.225439</td>\n",
              "    </tr>\n",
              "    <tr>\n",
              "      <th>sex</th>\n",
              "      <td>-0.098447</td>\n",
              "      <td>1.000000</td>\n",
              "      <td>-0.049353</td>\n",
              "      <td>-0.056769</td>\n",
              "      <td>-0.197912</td>\n",
              "      <td>0.045032</td>\n",
              "      <td>-0.058196</td>\n",
              "      <td>-0.044020</td>\n",
              "      <td>0.141664</td>\n",
              "      <td>0.096093</td>\n",
              "      <td>-0.030711</td>\n",
              "      <td>0.118261</td>\n",
              "      <td>0.210041</td>\n",
              "      <td>-0.280937</td>\n",
              "    </tr>\n",
              "    <tr>\n",
              "      <th>cp</th>\n",
              "      <td>-0.068653</td>\n",
              "      <td>-0.049353</td>\n",
              "      <td>1.000000</td>\n",
              "      <td>0.047608</td>\n",
              "      <td>-0.076904</td>\n",
              "      <td>0.094444</td>\n",
              "      <td>0.044421</td>\n",
              "      <td>0.295762</td>\n",
              "      <td>-0.394280</td>\n",
              "      <td>-0.149230</td>\n",
              "      <td>0.119717</td>\n",
              "      <td>-0.181053</td>\n",
              "      <td>-0.161736</td>\n",
              "      <td>0.433798</td>\n",
              "    </tr>\n",
              "    <tr>\n",
              "      <th>trestbps</th>\n",
              "      <td>0.279351</td>\n",
              "      <td>-0.056769</td>\n",
              "      <td>0.047608</td>\n",
              "      <td>1.000000</td>\n",
              "      <td>0.123174</td>\n",
              "      <td>0.177531</td>\n",
              "      <td>-0.114103</td>\n",
              "      <td>-0.046698</td>\n",
              "      <td>0.067616</td>\n",
              "      <td>0.193216</td>\n",
              "      <td>-0.121475</td>\n",
              "      <td>0.101389</td>\n",
              "      <td>0.062210</td>\n",
              "      <td>-0.144931</td>\n",
              "    </tr>\n",
              "    <tr>\n",
              "      <th>chol</th>\n",
              "      <td>0.213678</td>\n",
              "      <td>-0.197912</td>\n",
              "      <td>-0.076904</td>\n",
              "      <td>0.123174</td>\n",
              "      <td>1.000000</td>\n",
              "      <td>0.013294</td>\n",
              "      <td>-0.151040</td>\n",
              "      <td>-0.009940</td>\n",
              "      <td>0.067023</td>\n",
              "      <td>0.053952</td>\n",
              "      <td>-0.004038</td>\n",
              "      <td>0.070511</td>\n",
              "      <td>0.098803</td>\n",
              "      <td>-0.085239</td>\n",
              "    </tr>\n",
              "    <tr>\n",
              "      <th>fbs</th>\n",
              "      <td>0.121308</td>\n",
              "      <td>0.045032</td>\n",
              "      <td>0.094444</td>\n",
              "      <td>0.177531</td>\n",
              "      <td>0.013294</td>\n",
              "      <td>1.000000</td>\n",
              "      <td>-0.084189</td>\n",
              "      <td>-0.008567</td>\n",
              "      <td>0.025665</td>\n",
              "      <td>0.005747</td>\n",
              "      <td>-0.059894</td>\n",
              "      <td>0.137979</td>\n",
              "      <td>-0.032019</td>\n",
              "      <td>-0.028046</td>\n",
              "    </tr>\n",
              "    <tr>\n",
              "      <th>restecg</th>\n",
              "      <td>-0.116211</td>\n",
              "      <td>-0.058196</td>\n",
              "      <td>0.044421</td>\n",
              "      <td>-0.114103</td>\n",
              "      <td>-0.151040</td>\n",
              "      <td>-0.084189</td>\n",
              "      <td>1.000000</td>\n",
              "      <td>0.044123</td>\n",
              "      <td>-0.070733</td>\n",
              "      <td>-0.058770</td>\n",
              "      <td>0.093045</td>\n",
              "      <td>-0.072042</td>\n",
              "      <td>-0.011981</td>\n",
              "      <td>0.137230</td>\n",
              "    </tr>\n",
              "    <tr>\n",
              "      <th>thalach</th>\n",
              "      <td>-0.398522</td>\n",
              "      <td>-0.044020</td>\n",
              "      <td>0.295762</td>\n",
              "      <td>-0.046698</td>\n",
              "      <td>-0.009940</td>\n",
              "      <td>-0.008567</td>\n",
              "      <td>0.044123</td>\n",
              "      <td>1.000000</td>\n",
              "      <td>-0.378812</td>\n",
              "      <td>-0.344187</td>\n",
              "      <td>0.386784</td>\n",
              "      <td>-0.213177</td>\n",
              "      <td>-0.096439</td>\n",
              "      <td>0.421741</td>\n",
              "    </tr>\n",
              "    <tr>\n",
              "      <th>exang</th>\n",
              "      <td>0.096801</td>\n",
              "      <td>0.141664</td>\n",
              "      <td>-0.394280</td>\n",
              "      <td>0.067616</td>\n",
              "      <td>0.067023</td>\n",
              "      <td>0.025665</td>\n",
              "      <td>-0.070733</td>\n",
              "      <td>-0.378812</td>\n",
              "      <td>1.000000</td>\n",
              "      <td>0.288223</td>\n",
              "      <td>-0.257748</td>\n",
              "      <td>0.115739</td>\n",
              "      <td>0.206754</td>\n",
              "      <td>-0.436757</td>\n",
              "    </tr>\n",
              "    <tr>\n",
              "      <th>oldpeak</th>\n",
              "      <td>0.210013</td>\n",
              "      <td>0.096093</td>\n",
              "      <td>-0.149230</td>\n",
              "      <td>0.193216</td>\n",
              "      <td>0.053952</td>\n",
              "      <td>0.005747</td>\n",
              "      <td>-0.058770</td>\n",
              "      <td>-0.344187</td>\n",
              "      <td>0.288223</td>\n",
              "      <td>1.000000</td>\n",
              "      <td>-0.577537</td>\n",
              "      <td>0.222682</td>\n",
              "      <td>0.210244</td>\n",
              "      <td>-0.430696</td>\n",
              "    </tr>\n",
              "    <tr>\n",
              "      <th>slope</th>\n",
              "      <td>-0.168814</td>\n",
              "      <td>-0.030711</td>\n",
              "      <td>0.119717</td>\n",
              "      <td>-0.121475</td>\n",
              "      <td>-0.004038</td>\n",
              "      <td>-0.059894</td>\n",
              "      <td>0.093045</td>\n",
              "      <td>0.386784</td>\n",
              "      <td>-0.257748</td>\n",
              "      <td>-0.577537</td>\n",
              "      <td>1.000000</td>\n",
              "      <td>-0.080155</td>\n",
              "      <td>-0.104764</td>\n",
              "      <td>0.345877</td>\n",
              "    </tr>\n",
              "    <tr>\n",
              "      <th>ca</th>\n",
              "      <td>0.276326</td>\n",
              "      <td>0.118261</td>\n",
              "      <td>-0.181053</td>\n",
              "      <td>0.101389</td>\n",
              "      <td>0.070511</td>\n",
              "      <td>0.137979</td>\n",
              "      <td>-0.072042</td>\n",
              "      <td>-0.213177</td>\n",
              "      <td>0.115739</td>\n",
              "      <td>0.222682</td>\n",
              "      <td>-0.080155</td>\n",
              "      <td>1.000000</td>\n",
              "      <td>0.151832</td>\n",
              "      <td>-0.391724</td>\n",
              "    </tr>\n",
              "    <tr>\n",
              "      <th>thal</th>\n",
              "      <td>0.068001</td>\n",
              "      <td>0.210041</td>\n",
              "      <td>-0.161736</td>\n",
              "      <td>0.062210</td>\n",
              "      <td>0.098803</td>\n",
              "      <td>-0.032019</td>\n",
              "      <td>-0.011981</td>\n",
              "      <td>-0.096439</td>\n",
              "      <td>0.206754</td>\n",
              "      <td>0.210244</td>\n",
              "      <td>-0.104764</td>\n",
              "      <td>0.151832</td>\n",
              "      <td>1.000000</td>\n",
              "      <td>-0.344029</td>\n",
              "    </tr>\n",
              "    <tr>\n",
              "      <th>target</th>\n",
              "      <td>-0.225439</td>\n",
              "      <td>-0.280937</td>\n",
              "      <td>0.433798</td>\n",
              "      <td>-0.144931</td>\n",
              "      <td>-0.085239</td>\n",
              "      <td>-0.028046</td>\n",
              "      <td>0.137230</td>\n",
              "      <td>0.421741</td>\n",
              "      <td>-0.436757</td>\n",
              "      <td>-0.430696</td>\n",
              "      <td>0.345877</td>\n",
              "      <td>-0.391724</td>\n",
              "      <td>-0.344029</td>\n",
              "      <td>1.000000</td>\n",
              "    </tr>\n",
              "  </tbody>\n",
              "</table>\n",
              "</div>"
            ],
            "text/plain": [
              "               age       sex        cp  ...        ca      thal    target\n",
              "age       1.000000 -0.098447 -0.068653  ...  0.276326  0.068001 -0.225439\n",
              "sex      -0.098447  1.000000 -0.049353  ...  0.118261  0.210041 -0.280937\n",
              "cp       -0.068653 -0.049353  1.000000  ... -0.181053 -0.161736  0.433798\n",
              "trestbps  0.279351 -0.056769  0.047608  ...  0.101389  0.062210 -0.144931\n",
              "chol      0.213678 -0.197912 -0.076904  ...  0.070511  0.098803 -0.085239\n",
              "fbs       0.121308  0.045032  0.094444  ...  0.137979 -0.032019 -0.028046\n",
              "restecg  -0.116211 -0.058196  0.044421  ... -0.072042 -0.011981  0.137230\n",
              "thalach  -0.398522 -0.044020  0.295762  ... -0.213177 -0.096439  0.421741\n",
              "exang     0.096801  0.141664 -0.394280  ...  0.115739  0.206754 -0.436757\n",
              "oldpeak   0.210013  0.096093 -0.149230  ...  0.222682  0.210244 -0.430696\n",
              "slope    -0.168814 -0.030711  0.119717  ... -0.080155 -0.104764  0.345877\n",
              "ca        0.276326  0.118261 -0.181053  ...  1.000000  0.151832 -0.391724\n",
              "thal      0.068001  0.210041 -0.161736  ...  0.151832  1.000000 -0.344029\n",
              "target   -0.225439 -0.280937  0.433798  ... -0.391724 -0.344029  1.000000\n",
              "\n",
              "[14 rows x 14 columns]"
            ]
          },
          "metadata": {
            "tags": []
          },
          "execution_count": 312
        }
      ]
    },
    {
      "cell_type": "code",
      "metadata": {
        "id": "9pcZDM69RIVj",
        "colab_type": "code",
        "colab": {
          "base_uri": "https://localhost:8080/",
          "height": 426
        },
        "outputId": "27f92855-63d6-491b-fbf3-800d8235e047"
      },
      "source": [
        "#Não tem muita correlação \n",
        "plt.figure(figsize=(8,6))\n",
        "sns.heatmap(corr,vmin=-1, vmax=1, center=0, annot=True, fmt='.2f', cmap=sns.diverging_palette(20, 220, n=200))"
      ],
      "execution_count": 313,
      "outputs": [
        {
          "output_type": "execute_result",
          "data": {
            "text/plain": [
              "<matplotlib.axes._subplots.AxesSubplot at 0x7ff3d73850f0>"
            ]
          },
          "metadata": {
            "tags": []
          },
          "execution_count": 313
        },
        {
          "output_type": "display_data",
          "data": {
            "image/png": "[encoded data removed]",
            "text/plain": [
              "<Figure size 576x432 with 2 Axes>"
            ]
          },
          "metadata": {
            "tags": [],
            "needs_background": "light"
          }
        }
      ]
    },
    {
      "cell_type": "code",
      "metadata": {
        "id": "5NNbAF-HSOoM",
        "colab_type": "code",
        "colab": {
          "base_uri": "https://localhost:8080/",
          "height": 405
        },
        "outputId": "2ed705f9-5b20-453a-a6ba-cd5b4a2e0d7f"
      },
      "source": [
        "sns.distplot(dados['age'])\n",
        "#A maioria das pessoas então com idades entre 40 a 60 anos "
      ],
      "execution_count": 314,
      "outputs": [
        {
          "output_type": "execute_result",
          "data": {
            "text/plain": [
              "<matplotlib.axes._subplots.AxesSubplot at 0x7ff3d6db2b70>"
            ]
          },
          "metadata": {
            "tags": []
          },
          "execution_count": 314
        },
        {
          "output_type": "display_data",
          "data": {
            "image/png": "[encoded data removed]",
            "text/plain": [
              "<Figure size 576x432 with 1 Axes>"
            ]
          },
          "metadata": {
            "tags": [],
            "needs_background": "light"
          }
        }
      ]
    },
    {
      "cell_type": "code",
      "metadata": {
        "id": "85-6sUNVldnN",
        "colab_type": "code",
        "colab": {
          "base_uri": "https://localhost:8080/",
          "height": 404
        },
        "outputId": "dbffbf47-a72b-4b62-baf5-9b521b9e08a1"
      },
      "source": [
        "plt.boxplot(dados.thalach)\n",
        "plt.title('Frequência cardíaca máxima alcançada')\n",
        "plt.xlabel('thalach')\n",
        "plt.grid()\n",
        "plt.show()"
      ],
      "execution_count": 315,
      "outputs": [
        {
          "output_type": "display_data",
          "data": {
            "image/png": "[encoded data removed]",
            "text/plain": [
              "<Figure size 576x432 with 1 Axes>"
            ]
          },
          "metadata": {
            "tags": [],
            "needs_background": "light"
          }
        }
      ]
    },
    {
      "cell_type": "code",
      "metadata": {
        "id": "gTnZlzOioEmO",
        "colab_type": "code",
        "colab": {}
      },
      "source": [
        "target = dados[dados['target']==0].drop(columns=['target']).reset_index(drop=True)"
      ],
      "execution_count": 316,
      "outputs": []
    },
    {
      "cell_type": "code",
      "metadata": {
        "id": "OVLEyOGYoS5v",
        "colab_type": "code",
        "colab": {}
      },
      "source": [
        "notTarget = dados[dados['target']==1].drop(columns=['target']).reset_index(drop=True)"
      ],
      "execution_count": 317,
      "outputs": []
    },
    {
      "cell_type": "code",
      "metadata": {
        "id": "1gwQY_H_ocnI",
        "colab_type": "code",
        "colab": {
          "base_uri": "https://localhost:8080/",
          "height": 390
        },
        "outputId": "f549ace1-311e-4d0d-d04f-7bae8f3a1865"
      },
      "source": [
        "target.boxplot()\n",
        "plt.title('Box plot dos atributos dos que apresentaram a doença')\n",
        "plt.show()"
      ],
      "execution_count": 318,
      "outputs": [
        {
          "output_type": "display_data",
          "data": {
            "image/png": "[encoded data removed]",
            "text/plain": [
              "<Figure size 576x432 with 1 Axes>"
            ]
          },
          "metadata": {
            "tags": [],
            "needs_background": "light"
          }
        }
      ]
    },
    {
      "cell_type": "code",
      "metadata": {
        "id": "1d6XjTxZpDHw",
        "colab_type": "code",
        "colab": {
          "base_uri": "https://localhost:8080/",
          "height": 390
        },
        "outputId": "65c4e055-d7e2-4337-cd41-18ef02566dd9"
      },
      "source": [
        "notTarget.boxplot()\n",
        "plt.title('Box plot dos atributos dos que não apresentaram a doença')\n",
        "plt.show()"
      ],
      "execution_count": 319,
      "outputs": [
        {
          "output_type": "display_data",
          "data": {
            "image/png": "[encoded data removed]",
            "text/plain": [
              "<Figure size 576x432 with 1 Axes>"
            ]
          },
          "metadata": {
            "tags": [],
            "needs_background": "light"
          }
        }
      ]
    },
    {
      "cell_type": "code",
      "metadata": {
        "id": "73_OWPszpofi",
        "colab_type": "code",
        "colab": {
          "base_uri": "https://localhost:8080/",
          "height": 404
        },
        "outputId": "5dac3500-2f8c-4f9e-cec8-0fd4a7ea9cc7"
      },
      "source": [
        "\n",
        "# box plot comparando o perimetro medio para as duas classes\n",
        "plt.boxplot([target.thalach,notTarget.thalach],labels=['alvo','não alvo'])\n",
        "plt.xlabel('Classes')\n",
        "plt.ylabel('Frequência cardíaca máxima alcançada')\n",
        "plt.title('Frequência cardíaca')\n",
        "plt.show()"
      ],
      "execution_count": 320,
      "outputs": [
        {
          "output_type": "display_data",
          "data": {
            "image/png": "[encoded data removed]",
            "text/plain": [
              "<Figure size 576x432 with 1 Axes>"
            ]
          },
          "metadata": {
            "tags": [],
            "needs_background": "light"
          }
        }
      ]
    },
    {
      "cell_type": "code",
      "metadata": {
        "id": "BMVZArzpdtxt",
        "colab_type": "code",
        "colab": {
          "base_uri": "https://localhost:8080/",
          "height": 351
        },
        "outputId": "5216a071-1c86-42ee-cb5a-f74dbe79c8f0"
      },
      "source": [
        "#quanto maior a frequencia cardíaca em pessoas mais jovens, mais chances elas tem de serem o alvo\n",
        "plt.figure(figsize=(15,5))\n",
        "plt.subplot(1,3,1)\n",
        "plt.scatter(x=dados.age[dados.target==1],y=dados.thalach[dados.target==1],c='red')\n",
        "plt.scatter(x=dados.age[dados.target==0],y=dados.thalach[dados.target==0],c='green')\n",
        "plt.xlabel('Idade')\n",
        "plt.ylabel('Frequência cardíaca máxima alcançada')\n",
        "plt.legend(['Alvo','Não alvo'])\n"
      ],
      "execution_count": 321,
      "outputs": [
        {
          "output_type": "execute_result",
          "data": {
            "text/plain": [
              "<matplotlib.legend.Legend at 0x7ff3d6e73f60>"
            ]
          },
          "metadata": {
            "tags": []
          },
          "execution_count": 321
        },
        {
          "output_type": "display_data",
          "data": {
            "image/png": "[encoded data removed]",
            "text/plain": [
              "<Figure size 1080x360 with 1 Axes>"
            ]
          },
          "metadata": {
            "tags": [],
            "needs_background": "light"
          }
        }
      ]
    },
    {
      "cell_type": "code",
      "metadata": {
        "id": "NWa0XICcxi5y",
        "colab_type": "code",
        "colab": {}
      },
      "source": [
        "#Re-escala usando máximo e mínimo\n",
        "dados = (dados - dados.min())/(dados.max()-dados.min())\n"
      ],
      "execution_count": 322,
      "outputs": []
    },
    {
      "cell_type": "code",
      "metadata": {
        "id": "UsD9gDuO6PBO",
        "colab_type": "code",
        "colab": {
          "base_uri": "https://localhost:8080/",
          "height": 419
        },
        "outputId": "3cb323de-b7ce-4d4d-c373-958bb517984c"
      },
      "source": [
        "dados"
      ],
      "execution_count": 323,
      "outputs": [
        {
          "output_type": "execute_result",
          "data": {
            "text/html": [
              "<div>\n",
              "<style scoped>\n",
              "    .dataframe tbody tr th:only-of-type {\n",
              "        vertical-align: middle;\n",
              "    }\n",
              "\n",
              "    .dataframe tbody tr th {\n",
              "        vertical-align: top;\n",
              "    }\n",
              "\n",
              "    .dataframe thead th {\n",
              "        text-align: right;\n",
              "    }\n",
              "</style>\n",
              "<table border=\"1\" class=\"dataframe\">\n",
              "  <thead>\n",
              "    <tr style=\"text-align: right;\">\n",
              "      <th></th>\n",
              "      <th>age</th>\n",
              "      <th>sex</th>\n",
              "      <th>cp</th>\n",
              "      <th>trestbps</th>\n",
              "      <th>chol</th>\n",
              "      <th>fbs</th>\n",
              "      <th>restecg</th>\n",
              "      <th>thalach</th>\n",
              "      <th>exang</th>\n",
              "      <th>oldpeak</th>\n",
              "      <th>slope</th>\n",
              "      <th>ca</th>\n",
              "      <th>thal</th>\n",
              "      <th>target</th>\n",
              "    </tr>\n",
              "  </thead>\n",
              "  <tbody>\n",
              "    <tr>\n",
              "      <th>0</th>\n",
              "      <td>0.708333</td>\n",
              "      <td>1.0</td>\n",
              "      <td>1.000000</td>\n",
              "      <td>0.481132</td>\n",
              "      <td>0.244292</td>\n",
              "      <td>1.0</td>\n",
              "      <td>0.0</td>\n",
              "      <td>0.603053</td>\n",
              "      <td>0.0</td>\n",
              "      <td>0.370968</td>\n",
              "      <td>0.0</td>\n",
              "      <td>0.00</td>\n",
              "      <td>0.333333</td>\n",
              "      <td>1.0</td>\n",
              "    </tr>\n",
              "    <tr>\n",
              "      <th>1</th>\n",
              "      <td>0.166667</td>\n",
              "      <td>1.0</td>\n",
              "      <td>0.666667</td>\n",
              "      <td>0.339623</td>\n",
              "      <td>0.283105</td>\n",
              "      <td>0.0</td>\n",
              "      <td>0.5</td>\n",
              "      <td>0.885496</td>\n",
              "      <td>0.0</td>\n",
              "      <td>0.564516</td>\n",
              "      <td>0.0</td>\n",
              "      <td>0.00</td>\n",
              "      <td>0.666667</td>\n",
              "      <td>1.0</td>\n",
              "    </tr>\n",
              "    <tr>\n",
              "      <th>2</th>\n",
              "      <td>0.250000</td>\n",
              "      <td>0.0</td>\n",
              "      <td>0.333333</td>\n",
              "      <td>0.339623</td>\n",
              "      <td>0.178082</td>\n",
              "      <td>0.0</td>\n",
              "      <td>0.0</td>\n",
              "      <td>0.770992</td>\n",
              "      <td>0.0</td>\n",
              "      <td>0.225806</td>\n",
              "      <td>1.0</td>\n",
              "      <td>0.00</td>\n",
              "      <td>0.666667</td>\n",
              "      <td>1.0</td>\n",
              "    </tr>\n",
              "    <tr>\n",
              "      <th>3</th>\n",
              "      <td>0.562500</td>\n",
              "      <td>1.0</td>\n",
              "      <td>0.333333</td>\n",
              "      <td>0.245283</td>\n",
              "      <td>0.251142</td>\n",
              "      <td>0.0</td>\n",
              "      <td>0.5</td>\n",
              "      <td>0.816794</td>\n",
              "      <td>0.0</td>\n",
              "      <td>0.129032</td>\n",
              "      <td>1.0</td>\n",
              "      <td>0.00</td>\n",
              "      <td>0.666667</td>\n",
              "      <td>1.0</td>\n",
              "    </tr>\n",
              "    <tr>\n",
              "      <th>4</th>\n",
              "      <td>0.583333</td>\n",
              "      <td>0.0</td>\n",
              "      <td>0.000000</td>\n",
              "      <td>0.245283</td>\n",
              "      <td>0.520548</td>\n",
              "      <td>0.0</td>\n",
              "      <td>0.5</td>\n",
              "      <td>0.702290</td>\n",
              "      <td>1.0</td>\n",
              "      <td>0.096774</td>\n",
              "      <td>1.0</td>\n",
              "      <td>0.00</td>\n",
              "      <td>0.666667</td>\n",
              "      <td>1.0</td>\n",
              "    </tr>\n",
              "    <tr>\n",
              "      <th>...</th>\n",
              "      <td>...</td>\n",
              "      <td>...</td>\n",
              "      <td>...</td>\n",
              "      <td>...</td>\n",
              "      <td>...</td>\n",
              "      <td>...</td>\n",
              "      <td>...</td>\n",
              "      <td>...</td>\n",
              "      <td>...</td>\n",
              "      <td>...</td>\n",
              "      <td>...</td>\n",
              "      <td>...</td>\n",
              "      <td>...</td>\n",
              "      <td>...</td>\n",
              "    </tr>\n",
              "    <tr>\n",
              "      <th>298</th>\n",
              "      <td>0.583333</td>\n",
              "      <td>0.0</td>\n",
              "      <td>0.000000</td>\n",
              "      <td>0.433962</td>\n",
              "      <td>0.262557</td>\n",
              "      <td>0.0</td>\n",
              "      <td>0.5</td>\n",
              "      <td>0.396947</td>\n",
              "      <td>1.0</td>\n",
              "      <td>0.032258</td>\n",
              "      <td>0.5</td>\n",
              "      <td>0.00</td>\n",
              "      <td>1.000000</td>\n",
              "      <td>0.0</td>\n",
              "    </tr>\n",
              "    <tr>\n",
              "      <th>299</th>\n",
              "      <td>0.333333</td>\n",
              "      <td>1.0</td>\n",
              "      <td>1.000000</td>\n",
              "      <td>0.150943</td>\n",
              "      <td>0.315068</td>\n",
              "      <td>0.0</td>\n",
              "      <td>0.5</td>\n",
              "      <td>0.465649</td>\n",
              "      <td>0.0</td>\n",
              "      <td>0.193548</td>\n",
              "      <td>0.5</td>\n",
              "      <td>0.00</td>\n",
              "      <td>1.000000</td>\n",
              "      <td>0.0</td>\n",
              "    </tr>\n",
              "    <tr>\n",
              "      <th>300</th>\n",
              "      <td>0.812500</td>\n",
              "      <td>1.0</td>\n",
              "      <td>0.000000</td>\n",
              "      <td>0.471698</td>\n",
              "      <td>0.152968</td>\n",
              "      <td>1.0</td>\n",
              "      <td>0.5</td>\n",
              "      <td>0.534351</td>\n",
              "      <td>0.0</td>\n",
              "      <td>0.548387</td>\n",
              "      <td>0.5</td>\n",
              "      <td>0.50</td>\n",
              "      <td>1.000000</td>\n",
              "      <td>0.0</td>\n",
              "    </tr>\n",
              "    <tr>\n",
              "      <th>301</th>\n",
              "      <td>0.583333</td>\n",
              "      <td>1.0</td>\n",
              "      <td>0.000000</td>\n",
              "      <td>0.339623</td>\n",
              "      <td>0.011416</td>\n",
              "      <td>0.0</td>\n",
              "      <td>0.5</td>\n",
              "      <td>0.335878</td>\n",
              "      <td>1.0</td>\n",
              "      <td>0.193548</td>\n",
              "      <td>0.5</td>\n",
              "      <td>0.25</td>\n",
              "      <td>1.000000</td>\n",
              "      <td>0.0</td>\n",
              "    </tr>\n",
              "    <tr>\n",
              "      <th>302</th>\n",
              "      <td>0.583333</td>\n",
              "      <td>0.0</td>\n",
              "      <td>0.333333</td>\n",
              "      <td>0.339623</td>\n",
              "      <td>0.251142</td>\n",
              "      <td>0.0</td>\n",
              "      <td>0.0</td>\n",
              "      <td>0.786260</td>\n",
              "      <td>0.0</td>\n",
              "      <td>0.000000</td>\n",
              "      <td>0.5</td>\n",
              "      <td>0.25</td>\n",
              "      <td>0.666667</td>\n",
              "      <td>0.0</td>\n",
              "    </tr>\n",
              "  </tbody>\n",
              "</table>\n",
              "<p>303 rows × 14 columns</p>\n",
              "</div>"
            ],
            "text/plain": [
              "          age  sex        cp  trestbps  ...  slope    ca      thal  target\n",
              "0    0.708333  1.0  1.000000  0.481132  ...    0.0  0.00  0.333333     1.0\n",
              "1    0.166667  1.0  0.666667  0.339623  ...    0.0  0.00  0.666667     1.0\n",
              "2    0.250000  0.0  0.333333  0.339623  ...    1.0  0.00  0.666667     1.0\n",
              "3    0.562500  1.0  0.333333  0.245283  ...    1.0  0.00  0.666667     1.0\n",
              "4    0.583333  0.0  0.000000  0.245283  ...    1.0  0.00  0.666667     1.0\n",
              "..        ...  ...       ...       ...  ...    ...   ...       ...     ...\n",
              "298  0.583333  0.0  0.000000  0.433962  ...    0.5  0.00  1.000000     0.0\n",
              "299  0.333333  1.0  1.000000  0.150943  ...    0.5  0.00  1.000000     0.0\n",
              "300  0.812500  1.0  0.000000  0.471698  ...    0.5  0.50  1.000000     0.0\n",
              "301  0.583333  1.0  0.000000  0.339623  ...    0.5  0.25  1.000000     0.0\n",
              "302  0.583333  0.0  0.333333  0.339623  ...    0.5  0.25  0.666667     0.0\n",
              "\n",
              "[303 rows x 14 columns]"
            ]
          },
          "metadata": {
            "tags": []
          },
          "execution_count": 323
        }
      ]
    },
    {
      "cell_type": "code",
      "metadata": {
        "id": "0USJfa6xyGcj",
        "colab_type": "code",
        "colab": {
          "base_uri": "https://localhost:8080/",
          "height": 204
        },
        "outputId": "1cd8e330-1f76-412e-be8b-4abc3bb0ae7e"
      },
      "source": [
        "#dividindo dados em atributos descritores e atributo de classe\n",
        "X = dados.iloc[:,:-1]\n",
        "X.head()"
      ],
      "execution_count": 324,
      "outputs": [
        {
          "output_type": "execute_result",
          "data": {
            "text/html": [
              "<div>\n",
              "<style scoped>\n",
              "    .dataframe tbody tr th:only-of-type {\n",
              "        vertical-align: middle;\n",
              "    }\n",
              "\n",
              "    .dataframe tbody tr th {\n",
              "        vertical-align: top;\n",
              "    }\n",
              "\n",
              "    .dataframe thead th {\n",
              "        text-align: right;\n",
              "    }\n",
              "</style>\n",
              "<table border=\"1\" class=\"dataframe\">\n",
              "  <thead>\n",
              "    <tr style=\"text-align: right;\">\n",
              "      <th></th>\n",
              "      <th>age</th>\n",
              "      <th>sex</th>\n",
              "      <th>cp</th>\n",
              "      <th>trestbps</th>\n",
              "      <th>chol</th>\n",
              "      <th>fbs</th>\n",
              "      <th>restecg</th>\n",
              "      <th>thalach</th>\n",
              "      <th>exang</th>\n",
              "      <th>oldpeak</th>\n",
              "      <th>slope</th>\n",
              "      <th>ca</th>\n",
              "      <th>thal</th>\n",
              "    </tr>\n",
              "  </thead>\n",
              "  <tbody>\n",
              "    <tr>\n",
              "      <th>0</th>\n",
              "      <td>0.708333</td>\n",
              "      <td>1.0</td>\n",
              "      <td>1.000000</td>\n",
              "      <td>0.481132</td>\n",
              "      <td>0.244292</td>\n",
              "      <td>1.0</td>\n",
              "      <td>0.0</td>\n",
              "      <td>0.603053</td>\n",
              "      <td>0.0</td>\n",
              "      <td>0.370968</td>\n",
              "      <td>0.0</td>\n",
              "      <td>0.0</td>\n",
              "      <td>0.333333</td>\n",
              "    </tr>\n",
              "    <tr>\n",
              "      <th>1</th>\n",
              "      <td>0.166667</td>\n",
              "      <td>1.0</td>\n",
              "      <td>0.666667</td>\n",
              "      <td>0.339623</td>\n",
              "      <td>0.283105</td>\n",
              "      <td>0.0</td>\n",
              "      <td>0.5</td>\n",
              "      <td>0.885496</td>\n",
              "      <td>0.0</td>\n",
              "      <td>0.564516</td>\n",
              "      <td>0.0</td>\n",
              "      <td>0.0</td>\n",
              "      <td>0.666667</td>\n",
              "    </tr>\n",
              "    <tr>\n",
              "      <th>2</th>\n",
              "      <td>0.250000</td>\n",
              "      <td>0.0</td>\n",
              "      <td>0.333333</td>\n",
              "      <td>0.339623</td>\n",
              "      <td>0.178082</td>\n",
              "      <td>0.0</td>\n",
              "      <td>0.0</td>\n",
              "      <td>0.770992</td>\n",
              "      <td>0.0</td>\n",
              "      <td>0.225806</td>\n",
              "      <td>1.0</td>\n",
              "      <td>0.0</td>\n",
              "      <td>0.666667</td>\n",
              "    </tr>\n",
              "    <tr>\n",
              "      <th>3</th>\n",
              "      <td>0.562500</td>\n",
              "      <td>1.0</td>\n",
              "      <td>0.333333</td>\n",
              "      <td>0.245283</td>\n",
              "      <td>0.251142</td>\n",
              "      <td>0.0</td>\n",
              "      <td>0.5</td>\n",
              "      <td>0.816794</td>\n",
              "      <td>0.0</td>\n",
              "      <td>0.129032</td>\n",
              "      <td>1.0</td>\n",
              "      <td>0.0</td>\n",
              "      <td>0.666667</td>\n",
              "    </tr>\n",
              "    <tr>\n",
              "      <th>4</th>\n",
              "      <td>0.583333</td>\n",
              "      <td>0.0</td>\n",
              "      <td>0.000000</td>\n",
              "      <td>0.245283</td>\n",
              "      <td>0.520548</td>\n",
              "      <td>0.0</td>\n",
              "      <td>0.5</td>\n",
              "      <td>0.702290</td>\n",
              "      <td>1.0</td>\n",
              "      <td>0.096774</td>\n",
              "      <td>1.0</td>\n",
              "      <td>0.0</td>\n",
              "      <td>0.666667</td>\n",
              "    </tr>\n",
              "  </tbody>\n",
              "</table>\n",
              "</div>"
            ],
            "text/plain": [
              "        age  sex        cp  trestbps  ...   oldpeak  slope   ca      thal\n",
              "0  0.708333  1.0  1.000000  0.481132  ...  0.370968    0.0  0.0  0.333333\n",
              "1  0.166667  1.0  0.666667  0.339623  ...  0.564516    0.0  0.0  0.666667\n",
              "2  0.250000  0.0  0.333333  0.339623  ...  0.225806    1.0  0.0  0.666667\n",
              "3  0.562500  1.0  0.333333  0.245283  ...  0.129032    1.0  0.0  0.666667\n",
              "4  0.583333  0.0  0.000000  0.245283  ...  0.096774    1.0  0.0  0.666667\n",
              "\n",
              "[5 rows x 13 columns]"
            ]
          },
          "metadata": {
            "tags": []
          },
          "execution_count": 324
        }
      ]
    },
    {
      "cell_type": "code",
      "metadata": {
        "id": "Jr0ZDjQIyN0Y",
        "colab_type": "code",
        "colab": {
          "base_uri": "https://localhost:8080/",
          "height": 119
        },
        "outputId": "593b07d0-b555-4228-f4be-bc40f41d319e"
      },
      "source": [
        "y = dados.target\n",
        "y.head()"
      ],
      "execution_count": 325,
      "outputs": [
        {
          "output_type": "execute_result",
          "data": {
            "text/plain": [
              "0    1.0\n",
              "1    1.0\n",
              "2    1.0\n",
              "3    1.0\n",
              "4    1.0\n",
              "Name: target, dtype: float64"
            ]
          },
          "metadata": {
            "tags": []
          },
          "execution_count": 325
        }
      ]
    },
    {
      "cell_type": "code",
      "metadata": {
        "id": "YKbgJXFZ4fbO",
        "colab_type": "code",
        "colab": {}
      },
      "source": [
        "from sklearn.model_selection import train_test_split"
      ],
      "execution_count": 326,
      "outputs": []
    },
    {
      "cell_type": "code",
      "metadata": {
        "id": "5Q-KnTbs4hqf",
        "colab_type": "code",
        "colab": {}
      },
      "source": [
        "#Dividindo a matriz em um conjunto de treino e teste\n",
        "X_train, X_test, y_train, y_test = train_test_split(X,y, test_size=0.2)"
      ],
      "execution_count": 327,
      "outputs": []
    },
    {
      "cell_type": "code",
      "metadata": {
        "id": "p5l3ZNMc9FE3",
        "colab_type": "code",
        "colab": {
          "base_uri": "https://localhost:8080/",
          "height": 204
        },
        "outputId": "2deb4477-1332-465e-f114-d49af77d11c3"
      },
      "source": [
        "X_train.head()"
      ],
      "execution_count": 328,
      "outputs": [
        {
          "output_type": "execute_result",
          "data": {
            "text/html": [
              "<div>\n",
              "<style scoped>\n",
              "    .dataframe tbody tr th:only-of-type {\n",
              "        vertical-align: middle;\n",
              "    }\n",
              "\n",
              "    .dataframe tbody tr th {\n",
              "        vertical-align: top;\n",
              "    }\n",
              "\n",
              "    .dataframe thead th {\n",
              "        text-align: right;\n",
              "    }\n",
              "</style>\n",
              "<table border=\"1\" class=\"dataframe\">\n",
              "  <thead>\n",
              "    <tr style=\"text-align: right;\">\n",
              "      <th></th>\n",
              "      <th>age</th>\n",
              "      <th>sex</th>\n",
              "      <th>cp</th>\n",
              "      <th>trestbps</th>\n",
              "      <th>chol</th>\n",
              "      <th>fbs</th>\n",
              "      <th>restecg</th>\n",
              "      <th>thalach</th>\n",
              "      <th>exang</th>\n",
              "      <th>oldpeak</th>\n",
              "      <th>slope</th>\n",
              "      <th>ca</th>\n",
              "      <th>thal</th>\n",
              "    </tr>\n",
              "  </thead>\n",
              "  <tbody>\n",
              "    <tr>\n",
              "      <th>236</th>\n",
              "      <td>0.604167</td>\n",
              "      <td>1.0</td>\n",
              "      <td>0.000000</td>\n",
              "      <td>0.292453</td>\n",
              "      <td>0.397260</td>\n",
              "      <td>0.0</td>\n",
              "      <td>0.0</td>\n",
              "      <td>0.763359</td>\n",
              "      <td>0.0</td>\n",
              "      <td>0.000000</td>\n",
              "      <td>1.0</td>\n",
              "      <td>0.50</td>\n",
              "      <td>1.000000</td>\n",
              "    </tr>\n",
              "    <tr>\n",
              "      <th>40</th>\n",
              "      <td>0.458333</td>\n",
              "      <td>0.0</td>\n",
              "      <td>0.666667</td>\n",
              "      <td>0.433962</td>\n",
              "      <td>0.415525</td>\n",
              "      <td>0.0</td>\n",
              "      <td>0.0</td>\n",
              "      <td>0.541985</td>\n",
              "      <td>0.0</td>\n",
              "      <td>0.241935</td>\n",
              "      <td>1.0</td>\n",
              "      <td>0.25</td>\n",
              "      <td>0.666667</td>\n",
              "    </tr>\n",
              "    <tr>\n",
              "      <th>69</th>\n",
              "      <td>0.687500</td>\n",
              "      <td>0.0</td>\n",
              "      <td>0.000000</td>\n",
              "      <td>0.283019</td>\n",
              "      <td>0.189498</td>\n",
              "      <td>0.0</td>\n",
              "      <td>0.5</td>\n",
              "      <td>0.702290</td>\n",
              "      <td>0.0</td>\n",
              "      <td>0.000000</td>\n",
              "      <td>1.0</td>\n",
              "      <td>0.00</td>\n",
              "      <td>0.666667</td>\n",
              "    </tr>\n",
              "    <tr>\n",
              "      <th>47</th>\n",
              "      <td>0.375000</td>\n",
              "      <td>1.0</td>\n",
              "      <td>0.666667</td>\n",
              "      <td>0.415094</td>\n",
              "      <td>0.299087</td>\n",
              "      <td>0.0</td>\n",
              "      <td>0.0</td>\n",
              "      <td>0.648855</td>\n",
              "      <td>0.0</td>\n",
              "      <td>0.000000</td>\n",
              "      <td>1.0</td>\n",
              "      <td>0.00</td>\n",
              "      <td>0.666667</td>\n",
              "    </tr>\n",
              "    <tr>\n",
              "      <th>106</th>\n",
              "      <td>0.833333</td>\n",
              "      <td>1.0</td>\n",
              "      <td>1.000000</td>\n",
              "      <td>0.622642</td>\n",
              "      <td>0.246575</td>\n",
              "      <td>1.0</td>\n",
              "      <td>0.0</td>\n",
              "      <td>0.458015</td>\n",
              "      <td>0.0</td>\n",
              "      <td>0.016129</td>\n",
              "      <td>0.5</td>\n",
              "      <td>0.25</td>\n",
              "      <td>0.666667</td>\n",
              "    </tr>\n",
              "  </tbody>\n",
              "</table>\n",
              "</div>"
            ],
            "text/plain": [
              "          age  sex        cp  trestbps  ...   oldpeak  slope    ca      thal\n",
              "236  0.604167  1.0  0.000000  0.292453  ...  0.000000    1.0  0.50  1.000000\n",
              "40   0.458333  0.0  0.666667  0.433962  ...  0.241935    1.0  0.25  0.666667\n",
              "69   0.687500  0.0  0.000000  0.283019  ...  0.000000    1.0  0.00  0.666667\n",
              "47   0.375000  1.0  0.666667  0.415094  ...  0.000000    1.0  0.00  0.666667\n",
              "106  0.833333  1.0  1.000000  0.622642  ...  0.016129    0.5  0.25  0.666667\n",
              "\n",
              "[5 rows x 13 columns]"
            ]
          },
          "metadata": {
            "tags": []
          },
          "execution_count": 328
        }
      ]
    },
    {
      "cell_type": "code",
      "metadata": {
        "id": "HisCT5So9J8U",
        "colab_type": "code",
        "colab": {
          "base_uri": "https://localhost:8080/",
          "height": 119
        },
        "outputId": "bd8a7696-22ac-48fd-8415-b89ba8340589"
      },
      "source": [
        "y_train.head()"
      ],
      "execution_count": 329,
      "outputs": [
        {
          "output_type": "execute_result",
          "data": {
            "text/plain": [
              "236    0.0\n",
              "40     1.0\n",
              "69     1.0\n",
              "47     1.0\n",
              "106    1.0\n",
              "Name: target, dtype: float64"
            ]
          },
          "metadata": {
            "tags": []
          },
          "execution_count": 329
        }
      ]
    },
    {
      "cell_type": "code",
      "metadata": {
        "id": "ZZHl-q6e9hlq",
        "colab_type": "code",
        "colab": {}
      },
      "source": [
        "from sklearn.tree import DecisionTreeClassifier"
      ],
      "execution_count": 330,
      "outputs": []
    },
    {
      "cell_type": "code",
      "metadata": {
        "id": "YKFywe0t9kRS",
        "colab_type": "code",
        "colab": {}
      },
      "source": [
        "#realizando classificação - árvore de decisão\n",
        "classificador = DecisionTreeClassifier()"
      ],
      "execution_count": 331,
      "outputs": []
    },
    {
      "cell_type": "code",
      "metadata": {
        "id": "hI5_FJvK9oU3",
        "colab_type": "code",
        "colab": {
          "base_uri": "https://localhost:8080/",
          "height": 119
        },
        "outputId": "54c094f1-57ce-491f-d2e9-e2abb9bf4026"
      },
      "source": [
        "classificador.fit(X_train,y_train)"
      ],
      "execution_count": 332,
      "outputs": [
        {
          "output_type": "execute_result",
          "data": {
            "text/plain": [
              "DecisionTreeClassifier(ccp_alpha=0.0, class_weight=None, criterion='gini',\n",
              "                       max_depth=None, max_features=None, max_leaf_nodes=None,\n",
              "                       min_impurity_decrease=0.0, min_impurity_split=None,\n",
              "                       min_samples_leaf=1, min_samples_split=2,\n",
              "                       min_weight_fraction_leaf=0.0, presort='deprecated',\n",
              "                       random_state=None, splitter='best')"
            ]
          },
          "metadata": {
            "tags": []
          },
          "execution_count": 332
        }
      ]
    },
    {
      "cell_type": "code",
      "metadata": {
        "id": "9u6UCh0U-TO9",
        "colab_type": "code",
        "colab": {}
      },
      "source": [
        "from sklearn.tree import plot_tree"
      ],
      "execution_count": 333,
      "outputs": []
    },
    {
      "cell_type": "code",
      "metadata": {
        "id": "CpmxYp2d-UtM",
        "colab_type": "code",
        "colab": {}
      },
      "source": [
        "plt.rcParams[\"figure.figsize\"] = (30,20)\n"
      ],
      "execution_count": 334,
      "outputs": []
    },
    {
      "cell_type": "code",
      "metadata": {
        "id": "zmwNTMIk-YE6",
        "colab_type": "code",
        "colab": {
          "base_uri": "https://localhost:8080/",
          "height": 1000
        },
        "outputId": "ae2594fc-09d8-4c82-c2f8-e93c1d7afe8c"
      },
      "source": [
        "#ilustração da árvore de decisão\n",
        "plot_tree(classificador,feature_names=dados.columns[:-1])\n",
        "plt.show()"
      ],
      "execution_count": 335,
      "outputs": [
        {
          "output_type": "display_data",
          "data": {
            "image/png": "[encoded data removed]",
            "text/plain": [
              "<Figure size 2160x1440 with 1 Axes>"
            ]
          },
          "metadata": {
            "tags": [],
            "needs_background": "light"
          }
        }
      ]
    },
    {
      "cell_type": "code",
      "metadata": {
        "id": "Zuu4PiD-07hi",
        "colab_type": "code",
        "colab": {}
      },
      "source": [
        "plt.rcParams[\"figure.figsize\"] = (8,6)"
      ],
      "execution_count": 336,
      "outputs": []
    },
    {
      "cell_type": "code",
      "metadata": {
        "id": "ewjxSF4Q_AxX",
        "colab_type": "code",
        "colab": {
          "base_uri": "https://localhost:8080/",
          "height": 85
        },
        "outputId": "73b70a4e-e9ef-4c4d-fc88-51196b7193e1"
      },
      "source": [
        "#realizando classificação\n",
        "classificacao = classificador.predict(X_test)\n",
        "classificacao"
      ],
      "execution_count": 337,
      "outputs": [
        {
          "output_type": "execute_result",
          "data": {
            "text/plain": [
              "array([0., 0., 1., 0., 1., 0., 0., 1., 1., 0., 0., 0., 0., 0., 0., 0., 0.,\n",
              "       1., 0., 0., 0., 0., 1., 0., 1., 1., 0., 1., 1., 0., 1., 0., 1., 1.,\n",
              "       0., 1., 0., 1., 1., 0., 1., 0., 1., 1., 1., 0., 1., 1., 1., 0., 1.,\n",
              "       0., 0., 1., 0., 1., 1., 1., 0., 0., 0.])"
            ]
          },
          "metadata": {
            "tags": []
          },
          "execution_count": 337
        }
      ]
    },
    {
      "cell_type": "code",
      "metadata": {
        "id": "EfODK1uz_Gyl",
        "colab_type": "code",
        "colab": {
          "base_uri": "https://localhost:8080/",
          "height": 1000
        },
        "outputId": "845e0281-76c5-4399-da6c-e39959e536b0"
      },
      "source": [
        "for i in range(len(y_test)):\n",
        "  print(y_test.iloc[i],'\\t',classificacao[i])"
      ],
      "execution_count": 338,
      "outputs": [
        {
          "output_type": "stream",
          "text": [
            "0.0 \t 0.0\n",
            "0.0 \t 0.0\n",
            "1.0 \t 1.0\n",
            "0.0 \t 0.0\n",
            "1.0 \t 1.0\n",
            "1.0 \t 0.0\n",
            "0.0 \t 0.0\n",
            "1.0 \t 1.0\n",
            "0.0 \t 1.0\n",
            "0.0 \t 0.0\n",
            "1.0 \t 0.0\n",
            "0.0 \t 0.0\n",
            "0.0 \t 0.0\n",
            "0.0 \t 0.0\n",
            "1.0 \t 0.0\n",
            "0.0 \t 0.0\n",
            "0.0 \t 0.0\n",
            "0.0 \t 1.0\n",
            "0.0 \t 0.0\n",
            "0.0 \t 0.0\n",
            "0.0 \t 0.0\n",
            "0.0 \t 0.0\n",
            "1.0 \t 1.0\n",
            "0.0 \t 0.0\n",
            "1.0 \t 1.0\n",
            "1.0 \t 1.0\n",
            "0.0 \t 0.0\n",
            "1.0 \t 1.0\n",
            "1.0 \t 1.0\n",
            "0.0 \t 0.0\n",
            "1.0 \t 1.0\n",
            "0.0 \t 0.0\n",
            "1.0 \t 1.0\n",
            "0.0 \t 1.0\n",
            "0.0 \t 0.0\n",
            "1.0 \t 1.0\n",
            "1.0 \t 0.0\n",
            "1.0 \t 1.0\n",
            "1.0 \t 1.0\n",
            "1.0 \t 0.0\n",
            "1.0 \t 1.0\n",
            "0.0 \t 0.0\n",
            "1.0 \t 1.0\n",
            "1.0 \t 1.0\n",
            "1.0 \t 1.0\n",
            "1.0 \t 0.0\n",
            "0.0 \t 1.0\n",
            "1.0 \t 1.0\n",
            "1.0 \t 1.0\n",
            "1.0 \t 0.0\n",
            "1.0 \t 1.0\n",
            "1.0 \t 0.0\n",
            "0.0 \t 0.0\n",
            "0.0 \t 1.0\n",
            "0.0 \t 0.0\n",
            "1.0 \t 1.0\n",
            "1.0 \t 1.0\n",
            "1.0 \t 1.0\n",
            "0.0 \t 0.0\n",
            "0.0 \t 0.0\n",
            "1.0 \t 0.0\n"
          ],
          "name": "stdout"
        }
      ]
    },
    {
      "cell_type": "code",
      "metadata": {
        "id": "-O5sv22J_Qm2",
        "colab_type": "code",
        "colab": {}
      },
      "source": [
        "#avaliação do classificador\n",
        "from sklearn.metrics import accuracy_score\n",
        "from sklearn.metrics import precision_score\n",
        "from sklearn.metrics import recall_score\n",
        "from sklearn.metrics import f1_score"
      ],
      "execution_count": 339,
      "outputs": []
    },
    {
      "cell_type": "markdown",
      "metadata": {
        "id": "nhdwCDhsCiQg",
        "colab_type": "text"
      },
      "source": [
        "**Analisando os cálculos para avaliação do classificador, aparente tem um valor considerável nos resultados. Mas,levando em consideração o problema analisado seria necessário testar outros tipos de métodos para tentar conseguir um valor mais próximo de 1**\n",
        "\n"
      ]
    },
    {
      "cell_type": "code",
      "metadata": {
        "id": "LAfOyAxoApLh",
        "colab_type": "code",
        "colab": {
          "base_uri": "https://localhost:8080/",
          "height": 34
        },
        "outputId": "5819d460-73b2-451b-f64c-b71fc2b4013b"
      },
      "source": [
        "#calculando acurácia\n",
        "acuracia = accuracy_score(y_test,classificacao)\n",
        "acuracia"
      ],
      "execution_count": 340,
      "outputs": [
        {
          "output_type": "execute_result",
          "data": {
            "text/plain": [
              "0.7704918032786885"
            ]
          },
          "metadata": {
            "tags": []
          },
          "execution_count": 340
        }
      ]
    },
    {
      "cell_type": "code",
      "metadata": {
        "id": "VyLj15L6BE-8",
        "colab_type": "code",
        "colab": {
          "base_uri": "https://localhost:8080/",
          "height": 34
        },
        "outputId": "8c5e8dcc-2785-4225-fc1c-494868d4f5ca"
      },
      "source": [
        "#calculando precisão\n",
        "precisao = precision_score(y_test,classificacao)\n",
        "precisao"
      ],
      "execution_count": 341,
      "outputs": [
        {
          "output_type": "execute_result",
          "data": {
            "text/plain": [
              "0.8214285714285714"
            ]
          },
          "metadata": {
            "tags": []
          },
          "execution_count": 341
        }
      ]
    },
    {
      "cell_type": "code",
      "metadata": {
        "id": "samHqn3TA_O7",
        "colab_type": "code",
        "colab": {
          "base_uri": "https://localhost:8080/",
          "height": 34
        },
        "outputId": "763dc36d-a228-415c-e007-39416dc7830d"
      },
      "source": [
        "#calculando recall (revocação)\n",
        "recall = recall_score(y_test,classificacao)\n",
        "recall"
      ],
      "execution_count": 342,
      "outputs": [
        {
          "output_type": "execute_result",
          "data": {
            "text/plain": [
              "0.71875"
            ]
          },
          "metadata": {
            "tags": []
          },
          "execution_count": 342
        }
      ]
    },
    {
      "cell_type": "code",
      "metadata": {
        "id": "vmeoQTISBIe0",
        "colab_type": "code",
        "colab": {
          "base_uri": "https://localhost:8080/",
          "height": 34
        },
        "outputId": "86b38809-5b53-44ad-956e-82a96521c493"
      },
      "source": [
        "#calculando f1-score\n",
        "f1 = f1_score(y_test,classificacao)\n",
        "f1"
      ],
      "execution_count": 343,
      "outputs": [
        {
          "output_type": "execute_result",
          "data": {
            "text/plain": [
              "0.7666666666666666"
            ]
          },
          "metadata": {
            "tags": []
          },
          "execution_count": 343
        }
      ]
    },
    {
      "cell_type": "code",
      "metadata": {
        "id": "Hin8gd6yFbKA",
        "colab_type": "code",
        "colab": {}
      },
      "source": [
        "#plotando curva roc\n",
        "from sklearn.metrics  import roc_curve"
      ],
      "execution_count": 344,
      "outputs": []
    },
    {
      "cell_type": "markdown",
      "metadata": {
        "id": "vg_rp7eXeB8O",
        "colab_type": "text"
      },
      "source": [
        "**Representação gráfica para o desepenho dos classificadores, quando mais próximo do 1 do eixo y melhor \"**"
      ]
    },
    {
      "cell_type": "code",
      "metadata": {
        "id": "ofmxEPolFsqb",
        "colab_type": "code",
        "colab": {}
      },
      "source": [
        "fpr, tpr, _ = roc_curve(y_test,classificacao)"
      ],
      "execution_count": 345,
      "outputs": []
    },
    {
      "cell_type": "code",
      "metadata": {
        "id": "AeqEd3KHFyQ_",
        "colab_type": "code",
        "colab": {
          "base_uri": "https://localhost:8080/",
          "height": 34
        },
        "outputId": "a3eb1984-da72-48e1-e32c-23acf87ac685"
      },
      "source": [
        "fpr"
      ],
      "execution_count": 346,
      "outputs": [
        {
          "output_type": "execute_result",
          "data": {
            "text/plain": [
              "array([0.        , 0.17241379, 1.        ])"
            ]
          },
          "metadata": {
            "tags": []
          },
          "execution_count": 346
        }
      ]
    },
    {
      "cell_type": "code",
      "metadata": {
        "id": "uYlwKb5XF1az",
        "colab_type": "code",
        "colab": {
          "base_uri": "https://localhost:8080/",
          "height": 34
        },
        "outputId": "7fe2263a-a5d7-4a0f-c38f-7b19a8a11f1a"
      },
      "source": [
        "tpr"
      ],
      "execution_count": 347,
      "outputs": [
        {
          "output_type": "execute_result",
          "data": {
            "text/plain": [
              "array([0.     , 0.71875, 1.     ])"
            ]
          },
          "metadata": {
            "tags": []
          },
          "execution_count": 347
        }
      ]
    },
    {
      "cell_type": "code",
      "metadata": {
        "id": "JrbRz8-zF6J0",
        "colab_type": "code",
        "colab": {
          "base_uri": "https://localhost:8080/",
          "height": 404
        },
        "outputId": "6ffcd80a-fb2a-49de-d08f-bff3d4ea4364"
      },
      "source": [
        "plt.plot(fpr,tpr,marker='.')\n",
        "plt.title('Curva ROC')\n",
        "plt.xlabel('Taxa de Falsos Positivos')\n",
        "plt.ylabel('Taxa de Verdadeiro Positivos')\n",
        "plt.show()"
      ],
      "execution_count": 348,
      "outputs": [
        {
          "output_type": "display_data",
          "data": {
            "image/png": "[encoded data removed]",
            "text/plain": [
              "<Figure size 576x432 with 1 Axes>"
            ]
          },
          "metadata": {
            "tags": [],
            "needs_background": "light"
          }
        }
      ]
    },
    {
      "cell_type": "code",
      "metadata": {
        "id": "XdFIaRWMGATa",
        "colab_type": "code",
        "colab": {}
      },
      "source": [
        "from sklearn.metrics import roc_auc_score"
      ],
      "execution_count": 349,
      "outputs": []
    },
    {
      "cell_type": "markdown",
      "metadata": {
        "id": "FuR3R6faeddF",
        "colab_type": "text"
      },
      "source": [
        "**interpretação númerica da curva de roc**"
      ]
    },
    {
      "cell_type": "code",
      "metadata": {
        "id": "7FHYSmecGNOa",
        "colab_type": "code",
        "colab": {
          "base_uri": "https://localhost:8080/",
          "height": 34
        },
        "outputId": "1eaa8aed-f90e-482c-8369-1fa973f5cf0d"
      },
      "source": [
        "erro = roc_auc_score(y_test,classificacao)\n",
        "erro"
      ],
      "execution_count": 350,
      "outputs": [
        {
          "output_type": "execute_result",
          "data": {
            "text/plain": [
              "0.7731681034482758"
            ]
          },
          "metadata": {
            "tags": []
          },
          "execution_count": 350
        }
      ]
    },
    {
      "cell_type": "code",
      "metadata": {
        "id": "lr5sNsd3GSLo",
        "colab_type": "code",
        "colab": {}
      },
      "source": [
        "from sklearn.model_selection import KFold"
      ],
      "execution_count": 351,
      "outputs": []
    },
    {
      "cell_type": "markdown",
      "metadata": {
        "id": "SPMj-3fEevkr",
        "colab_type": "text"
      },
      "source": [
        "**validação cruzada**"
      ]
    },
    {
      "cell_type": "code",
      "metadata": {
        "id": "cBOTTLIQGZIZ",
        "colab_type": "code",
        "colab": {}
      },
      "source": [
        "kf = KFold(n_splits=5)"
      ],
      "execution_count": 352,
      "outputs": []
    },
    {
      "cell_type": "code",
      "metadata": {
        "id": "b3wZhyDMGdhv",
        "colab_type": "code",
        "colab": {
          "base_uri": "https://localhost:8080/",
          "height": 1000
        },
        "outputId": "555ce352-ac2e-4796-8eff-bf55fcbc6b94"
      },
      "source": [
        "#imprimindo os indices das instancias do treino e teste\n",
        "for train,test in kf.split(X):\n",
        "  print('Treino:',train,'\\nTeste:',test)\n",
        "  print('-----')"
      ],
      "execution_count": 353,
      "outputs": [
        {
          "output_type": "stream",
          "text": [
            "Treino: [ 61  62  63  64  65  66  67  68  69  70  71  72  73  74  75  76  77  78\n",
            "  79  80  81  82  83  84  85  86  87  88  89  90  91  92  93  94  95  96\n",
            "  97  98  99 100 101 102 103 104 105 106 107 108 109 110 111 112 113 114\n",
            " 115 116 117 118 119 120 121 122 123 124 125 126 127 128 129 130 131 132\n",
            " 133 134 135 136 137 138 139 140 141 142 143 144 145 146 147 148 149 150\n",
            " 151 152 153 154 155 156 157 158 159 160 161 162 163 164 165 166 167 168\n",
            " 169 170 171 172 173 174 175 176 177 178 179 180 181 182 183 184 185 186\n",
            " 187 188 189 190 191 192 193 194 195 196 197 198 199 200 201 202 203 204\n",
            " 205 206 207 208 209 210 211 212 213 214 215 216 217 218 219 220 221 222\n",
            " 223 224 225 226 227 228 229 230 231 232 233 234 235 236 237 238 239 240\n",
            " 241 242 243 244 245 246 247 248 249 250 251 252 253 254 255 256 257 258\n",
            " 259 260 261 262 263 264 265 266 267 268 269 270 271 272 273 274 275 276\n",
            " 277 278 279 280 281 282 283 284 285 286 287 288 289 290 291 292 293 294\n",
            " 295 296 297 298 299 300 301 302] \n",
            "Teste: [ 0  1  2  3  4  5  6  7  8  9 10 11 12 13 14 15 16 17 18 19 20 21 22 23\n",
            " 24 25 26 27 28 29 30 31 32 33 34 35 36 37 38 39 40 41 42 43 44 45 46 47\n",
            " 48 49 50 51 52 53 54 55 56 57 58 59 60]\n",
            "-----\n",
            "Treino: [  0   1   2   3   4   5   6   7   8   9  10  11  12  13  14  15  16  17\n",
            "  18  19  20  21  22  23  24  25  26  27  28  29  30  31  32  33  34  35\n",
            "  36  37  38  39  40  41  42  43  44  45  46  47  48  49  50  51  52  53\n",
            "  54  55  56  57  58  59  60 122 123 124 125 126 127 128 129 130 131 132\n",
            " 133 134 135 136 137 138 139 140 141 142 143 144 145 146 147 148 149 150\n",
            " 151 152 153 154 155 156 157 158 159 160 161 162 163 164 165 166 167 168\n",
            " 169 170 171 172 173 174 175 176 177 178 179 180 181 182 183 184 185 186\n",
            " 187 188 189 190 191 192 193 194 195 196 197 198 199 200 201 202 203 204\n",
            " 205 206 207 208 209 210 211 212 213 214 215 216 217 218 219 220 221 222\n",
            " 223 224 225 226 227 228 229 230 231 232 233 234 235 236 237 238 239 240\n",
            " 241 242 243 244 245 246 247 248 249 250 251 252 253 254 255 256 257 258\n",
            " 259 260 261 262 263 264 265 266 267 268 269 270 271 272 273 274 275 276\n",
            " 277 278 279 280 281 282 283 284 285 286 287 288 289 290 291 292 293 294\n",
            " 295 296 297 298 299 300 301 302] \n",
            "Teste: [ 61  62  63  64  65  66  67  68  69  70  71  72  73  74  75  76  77  78\n",
            "  79  80  81  82  83  84  85  86  87  88  89  90  91  92  93  94  95  96\n",
            "  97  98  99 100 101 102 103 104 105 106 107 108 109 110 111 112 113 114\n",
            " 115 116 117 118 119 120 121]\n",
            "-----\n",
            "Treino: [  0   1   2   3   4   5   6   7   8   9  10  11  12  13  14  15  16  17\n",
            "  18  19  20  21  22  23  24  25  26  27  28  29  30  31  32  33  34  35\n",
            "  36  37  38  39  40  41  42  43  44  45  46  47  48  49  50  51  52  53\n",
            "  54  55  56  57  58  59  60  61  62  63  64  65  66  67  68  69  70  71\n",
            "  72  73  74  75  76  77  78  79  80  81  82  83  84  85  86  87  88  89\n",
            "  90  91  92  93  94  95  96  97  98  99 100 101 102 103 104 105 106 107\n",
            " 108 109 110 111 112 113 114 115 116 117 118 119 120 121 183 184 185 186\n",
            " 187 188 189 190 191 192 193 194 195 196 197 198 199 200 201 202 203 204\n",
            " 205 206 207 208 209 210 211 212 213 214 215 216 217 218 219 220 221 222\n",
            " 223 224 225 226 227 228 229 230 231 232 233 234 235 236 237 238 239 240\n",
            " 241 242 243 244 245 246 247 248 249 250 251 252 253 254 255 256 257 258\n",
            " 259 260 261 262 263 264 265 266 267 268 269 270 271 272 273 274 275 276\n",
            " 277 278 279 280 281 282 283 284 285 286 287 288 289 290 291 292 293 294\n",
            " 295 296 297 298 299 300 301 302] \n",
            "Teste: [122 123 124 125 126 127 128 129 130 131 132 133 134 135 136 137 138 139\n",
            " 140 141 142 143 144 145 146 147 148 149 150 151 152 153 154 155 156 157\n",
            " 158 159 160 161 162 163 164 165 166 167 168 169 170 171 172 173 174 175\n",
            " 176 177 178 179 180 181 182]\n",
            "-----\n",
            "Treino: [  0   1   2   3   4   5   6   7   8   9  10  11  12  13  14  15  16  17\n",
            "  18  19  20  21  22  23  24  25  26  27  28  29  30  31  32  33  34  35\n",
            "  36  37  38  39  40  41  42  43  44  45  46  47  48  49  50  51  52  53\n",
            "  54  55  56  57  58  59  60  61  62  63  64  65  66  67  68  69  70  71\n",
            "  72  73  74  75  76  77  78  79  80  81  82  83  84  85  86  87  88  89\n",
            "  90  91  92  93  94  95  96  97  98  99 100 101 102 103 104 105 106 107\n",
            " 108 109 110 111 112 113 114 115 116 117 118 119 120 121 122 123 124 125\n",
            " 126 127 128 129 130 131 132 133 134 135 136 137 138 139 140 141 142 143\n",
            " 144 145 146 147 148 149 150 151 152 153 154 155 156 157 158 159 160 161\n",
            " 162 163 164 165 166 167 168 169 170 171 172 173 174 175 176 177 178 179\n",
            " 180 181 182 243 244 245 246 247 248 249 250 251 252 253 254 255 256 257\n",
            " 258 259 260 261 262 263 264 265 266 267 268 269 270 271 272 273 274 275\n",
            " 276 277 278 279 280 281 282 283 284 285 286 287 288 289 290 291 292 293\n",
            " 294 295 296 297 298 299 300 301 302] \n",
            "Teste: [183 184 185 186 187 188 189 190 191 192 193 194 195 196 197 198 199 200\n",
            " 201 202 203 204 205 206 207 208 209 210 211 212 213 214 215 216 217 218\n",
            " 219 220 221 222 223 224 225 226 227 228 229 230 231 232 233 234 235 236\n",
            " 237 238 239 240 241 242]\n",
            "-----\n",
            "Treino: [  0   1   2   3   4   5   6   7   8   9  10  11  12  13  14  15  16  17\n",
            "  18  19  20  21  22  23  24  25  26  27  28  29  30  31  32  33  34  35\n",
            "  36  37  38  39  40  41  42  43  44  45  46  47  48  49  50  51  52  53\n",
            "  54  55  56  57  58  59  60  61  62  63  64  65  66  67  68  69  70  71\n",
            "  72  73  74  75  76  77  78  79  80  81  82  83  84  85  86  87  88  89\n",
            "  90  91  92  93  94  95  96  97  98  99 100 101 102 103 104 105 106 107\n",
            " 108 109 110 111 112 113 114 115 116 117 118 119 120 121 122 123 124 125\n",
            " 126 127 128 129 130 131 132 133 134 135 136 137 138 139 140 141 142 143\n",
            " 144 145 146 147 148 149 150 151 152 153 154 155 156 157 158 159 160 161\n",
            " 162 163 164 165 166 167 168 169 170 171 172 173 174 175 176 177 178 179\n",
            " 180 181 182 183 184 185 186 187 188 189 190 191 192 193 194 195 196 197\n",
            " 198 199 200 201 202 203 204 205 206 207 208 209 210 211 212 213 214 215\n",
            " 216 217 218 219 220 221 222 223 224 225 226 227 228 229 230 231 232 233\n",
            " 234 235 236 237 238 239 240 241 242] \n",
            "Teste: [243 244 245 246 247 248 249 250 251 252 253 254 255 256 257 258 259 260\n",
            " 261 262 263 264 265 266 267 268 269 270 271 272 273 274 275 276 277 278\n",
            " 279 280 281 282 283 284 285 286 287 288 289 290 291 292 293 294 295 296\n",
            " 297 298 299 300 301 302]\n",
            "-----\n"
          ],
          "name": "stdout"
        }
      ]
    },
    {
      "cell_type": "code",
      "metadata": {
        "id": "enOh7rFmGm9l",
        "colab_type": "code",
        "colab": {}
      },
      "source": [
        "#avaliado o modelo\n",
        "from sklearn.model_selection import cross_val_score\n",
        "classificador = DecisionTreeClassifier()\n"
      ],
      "execution_count": 354,
      "outputs": []
    },
    {
      "cell_type": "code",
      "metadata": {
        "id": "PgF_MbrcGtxQ",
        "colab_type": "code",
        "colab": {
          "base_uri": "https://localhost:8080/",
          "height": 51
        },
        "outputId": "d1338284-b06d-45b4-e230-87dbbfaeb6be"
      },
      "source": [
        "#calculando os scores\n",
        "scores = cross_val_score(classificador,X,y,cv=10)\n",
        "scores"
      ],
      "execution_count": 355,
      "outputs": [
        {
          "output_type": "execute_result",
          "data": {
            "text/plain": [
              "array([0.77419355, 0.83870968, 0.87096774, 0.83333333, 0.8       ,\n",
              "       0.66666667, 0.73333333, 0.7       , 0.7       , 0.76666667])"
            ]
          },
          "metadata": {
            "tags": []
          },
          "execution_count": 355
        }
      ]
    },
    {
      "cell_type": "markdown",
      "metadata": {
        "id": "feOX4l99feBJ",
        "colab_type": "text"
      },
      "source": [
        "**Dar para perceber que consegue obter alguns resultados um pouco melhor que o encontrado usando a penas a divisão simples de treino e teste**"
      ]
    },
    {
      "cell_type": "code",
      "metadata": {
        "id": "cgwic0NAG-ed",
        "colab_type": "code",
        "colab": {
          "base_uri": "https://localhost:8080/",
          "height": 34
        },
        "outputId": "bd8e6c8f-fa77-4180-fef1-78a8b6edfbd9"
      },
      "source": [
        "scores.mean(),scores.std()"
      ],
      "execution_count": 356,
      "outputs": [
        {
          "output_type": "execute_result",
          "data": {
            "text/plain": [
              "(0.7683870967741935, 0.06453798912809687)"
            ]
          },
          "metadata": {
            "tags": []
          },
          "execution_count": 356
        }
      ]
    },
    {
      "cell_type": "code",
      "metadata": {
        "id": "oRp2G1DUHOo-",
        "colab_type": "code",
        "colab": {
          "base_uri": "https://localhost:8080/",
          "height": 119
        },
        "outputId": "a542051a-bebc-4035-c7e5-94e4298e334b"
      },
      "source": [
        "#definindo árvore de decisão\n",
        "arvore = DecisionTreeClassifier()\n",
        "arvore.fit(X_train,y_train)"
      ],
      "execution_count": 357,
      "outputs": [
        {
          "output_type": "execute_result",
          "data": {
            "text/plain": [
              "DecisionTreeClassifier(ccp_alpha=0.0, class_weight=None, criterion='gini',\n",
              "                       max_depth=None, max_features=None, max_leaf_nodes=None,\n",
              "                       min_impurity_decrease=0.0, min_impurity_split=None,\n",
              "                       min_samples_leaf=1, min_samples_split=2,\n",
              "                       min_weight_fraction_leaf=0.0, presort='deprecated',\n",
              "                       random_state=None, splitter='best')"
            ]
          },
          "metadata": {
            "tags": []
          },
          "execution_count": 357
        }
      ]
    },
    {
      "cell_type": "code",
      "metadata": {
        "id": "c564r6s0Haru",
        "colab_type": "code",
        "colab": {
          "base_uri": "https://localhost:8080/",
          "height": 153
        },
        "outputId": "41011d8b-b8dc-43f2-93be-1287ea46e25a"
      },
      "source": [
        "#definindo random forest\n",
        "from sklearn.ensemble import RandomForestClassifier\n",
        "floresta = RandomForestClassifier(n_estimators=100)\n",
        "floresta.fit(X_train,y_train)"
      ],
      "execution_count": 358,
      "outputs": [
        {
          "output_type": "execute_result",
          "data": {
            "text/plain": [
              "RandomForestClassifier(bootstrap=True, ccp_alpha=0.0, class_weight=None,\n",
              "                       criterion='gini', max_depth=None, max_features='auto',\n",
              "                       max_leaf_nodes=None, max_samples=None,\n",
              "                       min_impurity_decrease=0.0, min_impurity_split=None,\n",
              "                       min_samples_leaf=1, min_samples_split=2,\n",
              "                       min_weight_fraction_leaf=0.0, n_estimators=100,\n",
              "                       n_jobs=None, oob_score=False, random_state=None,\n",
              "                       verbose=0, warm_start=False)"
            ]
          },
          "metadata": {
            "tags": []
          },
          "execution_count": 358
        }
      ]
    },
    {
      "cell_type": "code",
      "metadata": {
        "id": "IVWXzrMhHfyG",
        "colab_type": "code",
        "colab": {
          "base_uri": "https://localhost:8080/",
          "height": 34
        },
        "outputId": "70bd8309-af48-45ae-db46-196a8c548594"
      },
      "source": [
        "#calculando acurácia da árvore de decisão\n",
        "arvore.score(X_test,y_test)\n"
      ],
      "execution_count": 359,
      "outputs": [
        {
          "output_type": "execute_result",
          "data": {
            "text/plain": [
              "0.7868852459016393"
            ]
          },
          "metadata": {
            "tags": []
          },
          "execution_count": 359
        }
      ]
    },
    {
      "cell_type": "code",
      "metadata": {
        "id": "U3svZSItHlCo",
        "colab_type": "code",
        "colab": {
          "base_uri": "https://localhost:8080/",
          "height": 34
        },
        "outputId": "4905c692-079a-471a-fd87-8a2b61f276b1"
      },
      "source": [
        "#calculando acurácia da random forest\n",
        "floresta.score(X_train,y_train)"
      ],
      "execution_count": 360,
      "outputs": [
        {
          "output_type": "execute_result",
          "data": {
            "text/plain": [
              "1.0"
            ]
          },
          "metadata": {
            "tags": []
          },
          "execution_count": 360
        }
      ]
    },
    {
      "cell_type": "code",
      "metadata": {
        "id": "WWTRzAl3Hle9",
        "colab_type": "code",
        "colab": {}
      },
      "source": [
        "#realizando previsão com árvore de decisão\n",
        "clf_arvore = arvore.predict(X_test)"
      ],
      "execution_count": 361,
      "outputs": []
    },
    {
      "cell_type": "code",
      "metadata": {
        "id": "4oarJSwzaoFJ",
        "colab_type": "code",
        "colab": {}
      },
      "source": [
        "#realizando previsão com random forest\n",
        "clf_floresta = floresta.predict(X_test)"
      ],
      "execution_count": 362,
      "outputs": []
    },
    {
      "cell_type": "code",
      "metadata": {
        "id": "cFaVhacGaqVM",
        "colab_type": "code",
        "colab": {}
      },
      "source": [
        "#calculando curva roc da árvore de decisão\n",
        "fpr_ar, tpr_ar, _ = roc_curve(y_test,clf_arvore)\n"
      ],
      "execution_count": 363,
      "outputs": []
    },
    {
      "cell_type": "code",
      "metadata": {
        "id": "XzN_O1NEatQ_",
        "colab_type": "code",
        "colab": {}
      },
      "source": [
        "#calculando curva roc da random forest\n",
        "fpr_fl, tpr_fl, _ = roc_curve(y_test,clf_floresta)"
      ],
      "execution_count": 364,
      "outputs": []
    },
    {
      "cell_type": "code",
      "metadata": {
        "id": "sZ3NQNA6ayGG",
        "colab_type": "code",
        "colab": {
          "base_uri": "https://localhost:8080/",
          "height": 404
        },
        "outputId": "ff3d1ef9-ba7a-4536-d25f-60b906060419"
      },
      "source": [
        "\n",
        "#plotando curvas\n",
        "plt.plot(fpr_ar,tpr_ar,linestyle='--',label='arvore')\n",
        "plt.plot(fpr_fl,tpr_fl,marker='.',label='floresta')\n",
        "plt.title('Curva ROC')\n",
        "plt.legend()\n",
        "plt.xlabel('Taxa de Falsos Positivos')\n",
        "plt.ylabel('Taxa de Verdadeiro Positivos')\n",
        "plt.show()"
      ],
      "execution_count": 365,
      "outputs": [
        {
          "output_type": "display_data",
          "data": {
            "image/png": "[encoded data removed]",
            "text/plain": [
              "<Figure size 576x432 with 1 Axes>"
            ]
          },
          "metadata": {
            "tags": [],
            "needs_background": "light"
          }
        }
      ]
    },
    {
      "cell_type": "code",
      "metadata": {
        "id": "wzh4ufena9zQ",
        "colab_type": "code",
        "colab": {
          "base_uri": "https://localhost:8080/",
          "height": 34
        },
        "outputId": "7e196ecf-847a-4f3c-ad40-5f4e65bae9c9"
      },
      "source": [
        "#criando árvore\n",
        "arvore = DecisionTreeClassifier()\n",
        "\n",
        "#calculando os scores\n",
        "scores = cross_val_score(arvore,X,y,cv=10)\n",
        "round(scores.mean(),3),round(scores.std(),3)"
      ],
      "execution_count": 366,
      "outputs": [
        {
          "output_type": "execute_result",
          "data": {
            "text/plain": [
              "(0.758, 0.064)"
            ]
          },
          "metadata": {
            "tags": []
          },
          "execution_count": 366
        }
      ]
    },
    {
      "cell_type": "code",
      "metadata": {
        "id": "ttjHr3WWbDMA",
        "colab_type": "code",
        "colab": {
          "base_uri": "https://localhost:8080/",
          "height": 34
        },
        "outputId": "86b3274f-5b99-430a-813f-260baf808ad5"
      },
      "source": [
        "#criando floresta\n",
        "floresta = RandomForestClassifier()\n",
        "\n",
        "#calculando os scores\n",
        "scores = cross_val_score(floresta,X,y,cv=10)\n",
        "round(scores.mean(),3),round(scores.std(),3)"
      ],
      "execution_count": 367,
      "outputs": [
        {
          "output_type": "execute_result",
          "data": {
            "text/plain": [
              "(0.825, 0.057)"
            ]
          },
          "metadata": {
            "tags": []
          },
          "execution_count": 367
        }
      ]
    },
    {
      "cell_type": "markdown",
      "metadata": {
        "id": "hyWTaWSIgsJ2",
        "colab_type": "text"
      },
      "source": [
        "**É possível perceber que usando floresta o resultado consegue chega mais próximo do satisfatório que usando árvore**"
      ]
    }
  ]
}